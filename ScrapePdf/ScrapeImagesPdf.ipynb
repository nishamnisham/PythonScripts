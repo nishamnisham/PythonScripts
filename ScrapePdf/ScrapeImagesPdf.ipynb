{
 "cells": [
  {
   "cell_type": "code",
   "execution_count": 12,
   "metadata": {},
   "outputs": [],
   "source": [
    "# -- importing libraries\n",
    "import PyPDF2\n",
    "import os, sys\n",
    "\n",
    "# %%\n",
    "# -- specifying file name and location\n",
    "parent_path = 'C:/Users/nisha/OneDrive - Floating Solutions Consulting/Documents/04. Projects/JAD-01 MV Main Deck/03. Working/FMECA/Batch 5 FMECA 2022/References'\n",
    "anWorking_path = 'C:/Users/nisha/OneDrive - Floating Solutions Consulting/Documents/04. Projects/JAD-01 MV Main Deck/03. Working/FMECA/Batch 5 FMECA 2022/FMECA spreadsheets/AN_working'\n",
    "file_name =  'VER-52531-4SWBT-LBHD-CR-0001-1379.pdf'\n",
    "file_path = os.path.join(parent_path,file_name)\n",
    "\n"
   ]
  },
  {
   "cell_type": "code",
   "execution_count": null,
   "metadata": {},
   "outputs": [],
   "source": [
    "#%%\n",
    "# --  creating a pdf object\n",
    "pdfFileObj = open(file_path, 'rb')\n",
    "pdf = PyPDF2.PdfFileReader(pdfFileObj)\n",
    "from tabula import read_pdf"
   ]
  },
  {
   "cell_type": "code",
   "execution_count": 54,
   "metadata": {},
   "outputs": [],
   "source": [
    "page_numbers = [39,40,41]"
   ]
  },
  {
   "attachments": {},
   "cell_type": "markdown",
   "metadata": {},
   "source": [
    "#### Testing one page"
   ]
  },
  {
   "cell_type": "code",
   "execution_count": 60,
   "metadata": {},
   "outputs": [],
   "source": [
    "page = pdf.getPage(39)"
   ]
  },
  {
   "cell_type": "code",
   "execution_count": 61,
   "metadata": {},
   "outputs": [],
   "source": [
    "# Extract all XObjects (which includes images) from the page\n",
    "xobjects = page[\"/Resources\"][\"/XObject\"].getObject()\n"
   ]
  },
  {
   "cell_type": "code",
   "execution_count": 66,
   "metadata": {},
   "outputs": [
    {
     "data": {
      "text/plain": [
       "'Anomaly Report (Corrosion)\\nFrame(s)\\nStiffener(s)\\nLength (X)\\nWidth/Height\\n(Y)\\nNearest transverse \\nmember (TWF,TBHD)\\nLongitudinal\\n(l) (distance\\nfrom in mm)\\nNearest longitudinal \\nmember (SS,ObLBHD)\\nTransverse (t) (distance \\nfrom in mm)\\nGrade\\nWeight\\n(kgs)\\nEN01\\nEN02\\nEN03\\nEN04\\nEN05\\nEN06\\nEN07\\nEN08\\nEN09\\nEN10(mm) (%) FLAG\\n124SWBT-\\nCR-\\nLBHD-AW 51-52 LL04LBHD \\nPlate100 60 TWF 51 680 LL04 0 AH 1 11.5 20 9.2 9.8 8.3 8.1 0.0 0.0 0.0 0.0 0.0 0.0 0.0 0.0 8.2 3.3 29% R 0Dimensions\\n(mm)Item No.\\nAnomaly ID\\nAnomaly TypeLocation of Component\\nStructural ComponentUTM Readings (mm)\\nAnomaly Photograph Close Up\\nAverage UTM Reading (mm)Diminution\\nComments\\nAnomaly Photograph Stand Off Anomaly LocationDatum Point DetailsMaterial \\nSee Note (1) Below\\nAs Built Thickness\\n(mm)\\nMax Allowable Diminution \\n(%)\\nRenewal Thickness (mm)\\nSubstantial Thickness (mm)\\nAnomaly and Recommendation Information\\nArrested Wastage\\nInspector: Matthew Bain Service: Water Ballast\\nDescription:A minimum reading of 8.1 mm and an average reading of 8.2 mm found between frames 51-52 at the longitudinal bulkhead \\nplate below LL04. Arrested wastage of the LBHD plate with an area of 100mm × 60mm present. Reporter: Asif Ashraf Corrosion ID:Client: Jadestone Energy Facility: Montara Venture Anomaly Description\\nRecommendations: Recommend review by client appointed technical authority.4SWBT-CR-LBHD-012\\nTechnical Authority: Donovan Rheeders Tank/Item: 4SWBT\\nDate 29/09/2022 Final Report: VER-52531-4SWBT-RS-001\\nLL02\\nLL03\\nLL04\\nVER-51346-TWI-001\\nRev 0 06/11/2015\\nVER-52531-4SWBT-LBHD-CR-001-050\\nCR-012'"
      ]
     },
     "execution_count": 66,
     "metadata": {},
     "output_type": "execute_result"
    }
   ],
   "source": [
    "page.extract_text()"
   ]
  },
  {
   "cell_type": "code",
   "execution_count": 51,
   "metadata": {},
   "outputs": [
    {
     "data": {
      "text/plain": [
       "{'/BitsPerComponent': 8,\n",
       " '/ColorSpace': '/DeviceRGB',\n",
       " '/Filter': '/DCTDecode',\n",
       " '/Height': 68,\n",
       " '/Interpolate': True,\n",
       " '/Subtype': '/Image',\n",
       " '/Type': '/XObject',\n",
       " '/Width': 220}"
      ]
     },
     "execution_count": 51,
     "metadata": {},
     "output_type": "execute_result"
    }
   ],
   "source": [
    "xobjects[\"/Image10\"]"
   ]
  },
  {
   "cell_type": "code",
   "execution_count": 52,
   "metadata": {},
   "outputs": [],
   "source": [
    "# Iterate through all XObjects\n",
    "for xobject in xobjects:\n",
    "    if xobjects[xobject][\"/Subtype\"] == \"/Image\" and xobjects[xobject][\"/Interpolate\"] == True and xobjects[xobject][\"/Height\"] > 100:\n",
    "        size = (xobjects[xobject][\"/Width\"], xobjects[xobject][\"/Height\"])\n",
    "        data = xobjects[xobject].getData()\n",
    "\n",
    "        # Save the image to a file\n",
    "        open(f\"{anWorking_path}/Images/{xobject}.jpg\", \"wb\").write(data)"
   ]
  },
  {
   "cell_type": "code",
   "execution_count": null,
   "metadata": {},
   "outputs": [],
   "source": []
  },
  {
   "attachments": {},
   "cell_type": "markdown",
   "metadata": {},
   "source": [
    "### Looping through multiple pages\n",
    "Loop through multiple pages. <br>\n",
    "Extract the images and save them in a specified folder.  <br>\n",
    "A systematic naming method has to be developed."
   ]
  },
  {
   "cell_type": "code",
   "execution_count": 58,
   "metadata": {},
   "outputs": [],
   "source": [
    "\n",
    "# Iterate through all pages\n",
    "for page_num in page_numbers:\n",
    "    page = pdf.getPage(page_num)\n",
    "\n",
    "    # Extract all XObjects (which includes images) from the page\n",
    "    xobjects = page[\"/Resources\"][\"/XObject\"].getObject()\n",
    "\n",
    "    # Iterate through all XObjects\n",
    "    for xobject in xobjects:\n",
    "        if xobjects[xobject][\"/Subtype\"] == \"/Image\" and xobjects[xobject][\"/Interpolate\"] == True and xobjects[xobject][\"/Height\"] > 100:\n",
    "            size = (xobjects[xobject][\"/Width\"], xobjects[xobject][\"/Height\"])\n",
    "            data = xobjects[xobject].getData()\n",
    "\n",
    "            # Save the image to a file\n",
    "            open(f\"{anWorking_path}/Images/{xobject}.jpg\", \"wb\").write(data)"
   ]
  },
  {
   "cell_type": "code",
   "execution_count": null,
   "metadata": {},
   "outputs": [],
   "source": []
  }
 ],
 "metadata": {
  "kernelspec": {
   "display_name": "base",
   "language": "python",
   "name": "python3"
  },
  "language_info": {
   "codemirror_mode": {
    "name": "ipython",
    "version": 3
   },
   "file_extension": ".py",
   "mimetype": "text/x-python",
   "name": "python",
   "nbconvert_exporter": "python",
   "pygments_lexer": "ipython3",
   "version": "3.9.13"
  },
  "orig_nbformat": 4,
  "vscode": {
   "interpreter": {
    "hash": "23558032b00ee6b68473e6823c75ce9d636029f112ff94112151df65d8686c23"
   }
  }
 },
 "nbformat": 4,
 "nbformat_minor": 2
}
