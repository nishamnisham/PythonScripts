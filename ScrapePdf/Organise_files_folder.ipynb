{
 "cells": [
  {
   "cell_type": "code",
   "execution_count": 1,
   "metadata": {},
   "outputs": [],
   "source": [
    "import os\n",
    "\n"
   ]
  },
  {
   "attachments": {},
   "cell_type": "markdown",
   "metadata": {},
   "source": [
    "Check how many images from same anomalies exist"
   ]
  },
  {
   "cell_type": "code",
   "execution_count": 4,
   "metadata": {},
   "outputs": [
    {
     "name": "stdout",
     "output_type": "stream",
     "text": [
      "3.jpg: 95 file(s)\n",
      "4.jpg: 19 file(s)\n",
      "5.jpg: 6 file(s)\n",
      "2.jpg: 439 file(s)\n",
      "1.jpg: 467 file(s)\n"
     ]
    }
   ],
   "source": [
    "\n",
    "# Specify the source folder path containing the image files\n",
    "source_folder_path = 'C:/Users/nisha/OneDrive - Floating Solutions Consulting/Documents/04. Projects/JAD-01 MV Main Deck/03. Working/FMECA/Batch 5 FMECA 2022/FMECA spreadsheets/AN_working/Images'\n",
    "\n",
    "# -- Destination folder\n",
    "destination_folder_path = 'C:/Users/nisha/OneDrive - Floating Solutions Consulting/Documents/04. Projects/JAD-01 MV Main Deck/03. Working/FMECA/Batch 5 FMECA 2022/FMECA spreadsheets/AN_working/Images/Destination'\n",
    "\n",
    "\n",
    "# Create the destination folder if it does not exist\n",
    "if not os.path.exists(destination_folder_path):\n",
    "    os.makedirs(destination_folder_path)\n",
    "\n",
    "# Create a dictionary to store the image names and their counts\n",
    "image_groups = {}\n",
    "\n",
    "# Loop through all files in the source folder\n",
    "for filename in os.listdir(source_folder_path):\n",
    "    # Check if the file is an image file (modify the extension if needed)\n",
    "    if filename.endswith(\".jpg\") or filename.endswith(\".jpeg\") or filename.endswith(\".png\"):\n",
    "        # Split the image name by \"#\" and get the second item\n",
    "        group_name = filename.split(\"#\")[1]\n",
    "        # Check if the group name already exists in the dictionary\n",
    "        if group_name in image_groups:\n",
    "            # Add the file to the existing group folder\n",
    "            group_folder_path = image_groups[group_name]\n",
    "            os.rename(os.path.join(source_folder_path, filename), os.path.join(group_folder_path, filename))\n",
    "        else:\n",
    "            # Create a new folder for the group\n",
    "            group_folder_path = os.path.join(destination_folder_path, group_name)\n",
    "            os.makedirs(group_folder_path)\n",
    "            # Add the file to the new group folder\n",
    "            os.rename(os.path.join(source_folder_path, filename), os.path.join(group_folder_path, filename))\n",
    "            # Add the group name and folder path to the dictionary\n",
    "            image_groups[group_name] = group_folder_path\n",
    "\n",
    "# Print the image counts for each group\n",
    "for group_name, group_folder_path in image_groups.items():\n",
    "    group_file_count = len(os.listdir(group_folder_path))\n",
    "    print(f\"{group_name}: {group_file_count} file(s)\")\n"
   ]
  },
  {
   "cell_type": "code",
   "execution_count": 9,
   "metadata": {},
   "outputs": [],
   "source": [
    "\n",
    "# specify the source folder path containing the image files\n",
    "source_folder_path_2 = 'C:/Users/nisha/OneDrive - Floating Solutions Consulting/Documents/04. Projects/JAD-01 MV Main Deck/03. Working/FMECA/Batch 5 FMECA 2022/FMECA spreadsheets/AN_working/Images/5'\n",
    "\n",
    "# loop through all files in the source folder\n",
    "for filename in os.listdir(source_folder_path_2):\n",
    "    # check if the file is an image file (modify the extension if needed)\n",
    "    if filename.endswith(\".jpg\") or filename.endswith(\".jpeg\") or filename.endswith(\".png\"):\n",
    "        # split the image name by \"#\" and get the first item\n",
    "        new_filename = filename.split(\"#\")[0] + \".jpg\"  # modify the extension if needed\n",
    "        # rename the file using os.rename()\n",
    "        os.rename(os.path.join(source_folder_path_2, filename), os.path.join(source_folder_path_2, new_filename))\n"
   ]
  },
  {
   "cell_type": "code",
   "execution_count": null,
   "metadata": {},
   "outputs": [],
   "source": []
  }
 ],
 "metadata": {
  "kernelspec": {
   "display_name": "base",
   "language": "python",
   "name": "python3"
  },
  "language_info": {
   "codemirror_mode": {
    "name": "ipython",
    "version": 3
   },
   "file_extension": ".py",
   "mimetype": "text/x-python",
   "name": "python",
   "nbconvert_exporter": "python",
   "pygments_lexer": "ipython3",
   "version": "3.9.13"
  },
  "orig_nbformat": 4,
  "vscode": {
   "interpreter": {
    "hash": "23558032b00ee6b68473e6823c75ce9d636029f112ff94112151df65d8686c23"
   }
  }
 },
 "nbformat": 4,
 "nbformat_minor": 2
}
