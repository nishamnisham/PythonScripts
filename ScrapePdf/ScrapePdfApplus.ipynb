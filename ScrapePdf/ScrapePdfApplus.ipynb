{
 "cells": [
  {
   "cell_type": "code",
   "execution_count": 42,
   "metadata": {},
   "outputs": [],
   "source": [
    "# -- importing libraries\n",
    "import PyPDF2\n",
    "import os, sys\n",
    "\n",
    "# %%\n",
    "# -- specifying file name and location\n",
    "parent_path = 'C:/Users/nisha/OneDrive - Floating Solutions Consulting/Documents/04. Projects/WEL-01 NY RBI/02. Client docs/Inspection Reports/2022/FP WBT'\n",
    "file_name =  '4034405-016 - FP(WBT).Rev.A.pdf'\n",
    "file_path = os.path.join(parent_path,file_name)\n",
    "\n",
    "#%%\n",
    "# --  creating a pdf object\n",
    "pdfFileObj = open(file_path, 'rb')\n",
    "pdf = PyPDF2.PdfFileReader(pdfFileObj)\n",
    "from tabula import read_pdf\n",
    "\n",
    "# import the itertools module\n",
    "import itertools"
   ]
  },
  {
   "cell_type": "markdown",
   "metadata": {},
   "source": [
    "### The functions"
   ]
  },
  {
   "cell_type": "code",
   "execution_count": 2,
   "metadata": {},
   "outputs": [],
   "source": [
    "# -- create a page object\n",
    "\n",
    "def getContentsFromPages(pdf):\n",
    "    '''Takes in pdf object,\n",
    "    Create a list for page numbers\n",
    "    Create a list for content in the pages\n",
    "    Zip them into a dictionary so that it can be sliced based on page number\n",
    "    '''\n",
    "    number_of_pages = pdf.numPages\n",
    "    page_index = [i for i in range(number_of_pages)]\n",
    "    page_content_list = [pdf.getPage(i).extract_text() for i in page_index]\n",
    "    page_index = [i+1 for i in range(number_of_pages)]\n",
    "    content_dict = dict(zip(page_index,page_content_list))\n",
    "    return content_dict\n",
    "\n",
    "\n",
    "def splitByLines(page_content_raw):\n",
    "    '''Split each page of the pdf by lines\n",
    "    and store them as lists into the same dictionary\n",
    "    '''\n",
    "    page_content = {}\n",
    "    for key,value in page_content_raw.items():\n",
    "        new_value = value.split('\\n')\n",
    "        page_content.update({key:new_value})\n",
    "    return page_content\n",
    "\n",
    "def pageWithSpecificText(page_contents,Text):\n",
    "    x = []\n",
    "    for key,value in page_contents.items():\n",
    "        for ind,i in enumerate(value):\n",
    "            if i.count(Text) >= 1:\n",
    "                x.append(key)\n",
    "                \n",
    "    return x\n",
    "\n",
    "\n",
    "def getTextAfterHeading(page_contents,Text,AdjacentLineNumber):\n",
    "    x = pageWithSpecificText(page_contents,Text)\n",
    "    if len(x)>1:\n",
    "        page = page_contents[x[1]]\n",
    "    else:\n",
    "        page = page_contents[x[0]]\n",
    "        \n",
    "    for ind,item in enumerate(page):\n",
    "        if item.count(Text):\n",
    "            z = page[ind+AdjacentLineNumber]\n",
    "        else:\n",
    "            pass\n",
    "    return z"
   ]
  },
  {
   "cell_type": "code",
   "execution_count": 3,
   "metadata": {},
   "outputs": [],
   "source": [
    "# --  Extract contents of the page and store into a dictionary with page numbers as keys\n",
    "page_content_raw = getContentsFromPages(pdf)\n"
   ]
  },
  {
   "cell_type": "code",
   "execution_count": 66,
   "metadata": {},
   "outputs": [],
   "source": [
    "v = page_content_raw[8]"
   ]
  },
  {
   "cell_type": "code",
   "execution_count": 67,
   "metadata": {},
   "outputs": [
    {
     "data": {
      "text/plain": [
       "' \\n \\n \\nClient: Woodside Energy Limited  Report Number: 4034405-016 \\nwww.applus.com   Page  8 of 159  \\n Re86P Rev 0 \\n \\nAnomaly \\nReport No. Anomaly \\nCat. Anomaly Description Frame Longitudinal Status  WEL  \\nNoti. \\nRef. \\nThe adjacent shell plating also noted to have corro sion scale \\npresent. However, it was not possible to determine if there was any \\nloss as the corrosion was not removed to preserve t he coating. \\n \\nThe surrounding areas were noted to have arrested w astage with \\na minimum remaining thickness of 21.2mm. The shell nominal \\nthickness was noted to be 23mm. However, this secti on of shell \\nplating was noted to be a thicker plate, at a nomin al thickness of \\n25.5mm. \\nNY-FP_WBT-AN-\\n004 Internal \\nCorrosion - \\nPiping An area of internal corrosion, measuring 85mm x 60m m, was noted \\non Ballast Line No. 400-WB-16701-RQ at Test Point ( TP) No. 03 at \\nthe 3 o’clock position. The minimum wall thickness was 6.3mm, \\nwhile the nominal was 12.7mm. \\n \\nTwo (2) areas of internal corrosion were also noted  at Test Point \\n02, with minimum remaining wall thicknesses of 7.6m m and 8.6mm \\nnoted. \\n \\nThe minimum Class allowable wall thickness for ball ast piping is \\n6.3mm. 103  - 104  01(P)  - 02(S)  Open  \\nNY-FP_WBT-AN-\\n005 Internal \\nCorrosion / \\nArrested \\nwastage - \\nPiping A 30mm diameter area of arrested external corrosion  was noted on \\nthe Forward Draft Gauge at Test Point No. 02. The m inimum \\nremaining wall thickness was 5.4mm, while the nomin al thickness \\nwas 9.5mm.   Internal corrosion was also noted in two (2) locati ons at Test Point \\nNo. 01, with minimum remaining wall thicknesses of 7.2mm and \\n7.4mm.  \\nThe ship side stubs are at renewal levels at 25% lo ss, with a \\nremaining wall thickness of 7.1mm.  103 \\n - 104  02(P)  - 03(P)  Open  '"
      ]
     },
     "execution_count": 67,
     "metadata": {},
     "output_type": "execute_result"
    }
   ],
   "source": [
    "v"
   ]
  },
  {
   "cell_type": "code",
   "execution_count": 68,
   "metadata": {},
   "outputs": [],
   "source": [
    "x = v.split(' \\n \\n')"
   ]
  },
  {
   "cell_type": "code",
   "execution_count": 69,
   "metadata": {},
   "outputs": [
    {
     "data": {
      "text/plain": [
       "['',\n",
       " ' \\nClient: Woodside Energy Limited  Report Number: 4034405-016 \\nwww.applus.com   Page  8 of 159  \\n Re86P Rev 0',\n",
       " 'Anomaly \\nReport No. Anomaly \\nCat. Anomaly Description Frame Longitudinal Status  WEL  \\nNoti. \\nRef. \\nThe adjacent shell plating also noted to have corro sion scale \\npresent. However, it was not possible to determine if there was any \\nloss as the corrosion was not removed to preserve t he coating.',\n",
       " 'The surrounding areas were noted to have arrested w astage with \\na minimum remaining thickness of 21.2mm. The shell nominal \\nthickness was noted to be 23mm. However, this secti on of shell \\nplating was noted to be a thicker plate, at a nomin al thickness of \\n25.5mm. \\nNY-FP_WBT-AN-\\n004 Internal \\nCorrosion - \\nPiping An area of internal corrosion, measuring 85mm x 60m m, was noted \\non Ballast Line No. 400-WB-16701-RQ at Test Point ( TP) No. 03 at \\nthe 3 o’clock position. The minimum wall thickness was 6.3mm, \\nwhile the nominal was 12.7mm.',\n",
       " 'Two (2) areas of internal corrosion were also noted  at Test Point \\n02, with minimum remaining wall thicknesses of 7.6m m and 8.6mm \\nnoted.',\n",
       " 'The minimum Class allowable wall thickness for ball ast piping is \\n6.3mm. 103  - 104  01(P)  - 02(S)  Open  \\nNY-FP_WBT-AN-\\n005 Internal \\nCorrosion / \\nArrested \\nwastage - \\nPiping A 30mm diameter area of arrested external corrosion  was noted on \\nthe Forward Draft Gauge at Test Point No. 02. The m inimum \\nremaining wall thickness was 5.4mm, while the nomin al thickness \\nwas 9.5mm.   Internal corrosion was also noted in two (2) locati ons at Test Point \\nNo. 01, with minimum remaining wall thicknesses of 7.2mm and \\n7.4mm.  \\nThe ship side stubs are at renewal levels at 25% lo ss, with a \\nremaining wall thickness of 7.1mm.  103 \\n - 104  02(P)  - 03(P)  Open  ']"
      ]
     },
     "execution_count": 69,
     "metadata": {},
     "output_type": "execute_result"
    }
   ],
   "source": [
    "x"
   ]
  },
  {
   "cell_type": "code",
   "execution_count": 70,
   "metadata": {},
   "outputs": [],
   "source": [
    "y = [i.split(' \\nNY') for i in x]\n"
   ]
  },
  {
   "cell_type": "code",
   "execution_count": 71,
   "metadata": {},
   "outputs": [
    {
     "data": {
      "text/plain": [
       "[[''],\n",
       " [' \\nClient: Woodside Energy Limited  Report Number: 4034405-016 \\nwww.applus.com   Page  8 of 159  \\n Re86P Rev 0'],\n",
       " ['Anomaly \\nReport No. Anomaly \\nCat. Anomaly Description Frame Longitudinal Status  WEL  \\nNoti. \\nRef. \\nThe adjacent shell plating also noted to have corro sion scale \\npresent. However, it was not possible to determine if there was any \\nloss as the corrosion was not removed to preserve t he coating.'],\n",
       " ['The surrounding areas were noted to have arrested w astage with \\na minimum remaining thickness of 21.2mm. The shell nominal \\nthickness was noted to be 23mm. However, this secti on of shell \\nplating was noted to be a thicker plate, at a nomin al thickness of \\n25.5mm.',\n",
       "  '-FP_WBT-AN-\\n004 Internal \\nCorrosion - \\nPiping An area of internal corrosion, measuring 85mm x 60m m, was noted \\non Ballast Line No. 400-WB-16701-RQ at Test Point ( TP) No. 03 at \\nthe 3 o’clock position. The minimum wall thickness was 6.3mm, \\nwhile the nominal was 12.7mm.'],\n",
       " ['Two (2) areas of internal corrosion were also noted  at Test Point \\n02, with minimum remaining wall thicknesses of 7.6m m and 8.6mm \\nnoted.'],\n",
       " ['The minimum Class allowable wall thickness for ball ast piping is \\n6.3mm. 103  - 104  01(P)  - 02(S)  Open ',\n",
       "  '-FP_WBT-AN-\\n005 Internal \\nCorrosion / \\nArrested \\nwastage - \\nPiping A 30mm diameter area of arrested external corrosion  was noted on \\nthe Forward Draft Gauge at Test Point No. 02. The m inimum \\nremaining wall thickness was 5.4mm, while the nomin al thickness \\nwas 9.5mm.   Internal corrosion was also noted in two (2) locati ons at Test Point \\nNo. 01, with minimum remaining wall thicknesses of 7.2mm and \\n7.4mm.  \\nThe ship side stubs are at renewal levels at 25% lo ss, with a \\nremaining wall thickness of 7.1mm.  103 \\n - 104  02(P)  - 03(P)  Open  ']]"
      ]
     },
     "execution_count": 71,
     "metadata": {},
     "output_type": "execute_result"
    }
   ],
   "source": [
    "y"
   ]
  },
  {
   "cell_type": "code",
   "execution_count": 55,
   "metadata": {},
   "outputs": [],
   "source": [
    "z = [item for sublist in y for item in sublist]"
   ]
  },
  {
   "cell_type": "code",
   "execution_count": 56,
   "metadata": {},
   "outputs": [],
   "source": [
    "z = list(itertools.chain(*y))"
   ]
  },
  {
   "cell_type": "code",
   "execution_count": 57,
   "metadata": {},
   "outputs": [
    {
     "data": {
      "text/plain": [
       "['',\n",
       " ' \\nClient: Woodside Energy Limited  Report Number: 4034405-016 \\nwww.applus.com   Page  8 of 159  \\n Re86P Rev 0',\n",
       " 'Anomaly \\nReport No. Anomaly \\nCat. Anomaly Description Frame Longitudinal Status  WEL  \\nNoti. \\nRef. \\nThe adjacent shell plating also noted to have corro sion scale \\npresent. However, it was not possible to determine if there was any \\nloss as the corrosion was not removed to preserve t he coating.',\n",
       " 'The surrounding areas were noted to have arrested w astage with \\na minimum remaining thickness of 21.2mm. The shell nominal \\nthickness was noted to be 23mm. However, this secti on of shell \\nplating was noted to be a thicker plate, at a nomin al thickness of \\n25.5mm.',\n",
       " '-FP_WBT-AN-\\n004 Internal \\nCorrosion - \\nPiping An area of internal corrosion, measuring 85mm x 60m m, was noted \\non Ballast Line No. 400-WB-16701-RQ at Test Point ( TP) No. 03 at \\nthe 3 o’clock position. The minimum wall thickness was 6.3mm, \\nwhile the nominal was 12.7mm.',\n",
       " 'Two (2) areas of internal corrosion were also noted  at Test Point \\n02, with minimum remaining wall thicknesses of 7.6m m and 8.6mm \\nnoted.',\n",
       " 'The minimum Class allowable wall thickness for ball ast piping is \\n6.3mm. 103  - 104  01(P)  - 02(S)  Open ',\n",
       " '-FP_WBT-AN-\\n005 Internal \\nCorrosion / \\nArrested \\nwastage - \\nPiping A 30mm diameter area of arrested external corrosion  was noted on \\nthe Forward Draft Gauge at Test Point No. 02. The m inimum \\nremaining wall thickness was 5.4mm, while the nomin al thickness \\nwas 9.5mm.   Internal corrosion was also noted in two (2) locati ons at Test Point \\nNo. 01, with minimum remaining wall thicknesses of 7.2mm and \\n7.4mm.  \\nThe ship side stubs are at renewal levels at 25% lo ss, with a \\nremaining wall thickness of 7.1mm.  103 \\n - 104  02(P)  - 03(P)  Open  ']"
      ]
     },
     "execution_count": 57,
     "metadata": {},
     "output_type": "execute_result"
    }
   ],
   "source": [
    "z"
   ]
  },
  {
   "cell_type": "code",
   "execution_count": 5,
   "metadata": {},
   "outputs": [],
   "source": [
    "\n",
    "# -- extract text from page\n",
    "page_contents = splitByLines(page_content_raw)\n",
    "\n"
   ]
  },
  {
   "cell_type": "code",
   "execution_count": 7,
   "metadata": {},
   "outputs": [],
   "source": [
    "\n",
    "# -- extracting critical findings\n",
    "cf = getTextAfterHeading(page_contents,'Anomaly Register',2)\n"
   ]
  },
  {
   "cell_type": "code",
   "execution_count": 8,
   "metadata": {},
   "outputs": [
    {
     "data": {
      "text/plain": [
       "'Anomaly '"
      ]
     },
     "execution_count": 8,
     "metadata": {},
     "output_type": "execute_result"
    }
   ],
   "source": [
    "cf"
   ]
  },
  {
   "cell_type": "code",
   "execution_count": 9,
   "metadata": {},
   "outputs": [
    {
     "ename": "IndexError",
     "evalue": "list index out of range",
     "output_type": "error",
     "traceback": [
      "\u001b[1;31m---------------------------------------------------------------------------\u001b[0m",
      "\u001b[1;31mIndexError\u001b[0m                                Traceback (most recent call last)",
      "\u001b[1;32m~\\AppData\\Local\\Temp\\ipykernel_10276\\3402721328.py\u001b[0m in \u001b[0;36m<module>\u001b[1;34m\u001b[0m\n\u001b[0;32m      1\u001b[0m \u001b[1;31m# -- extracting coating and anomaly conditions\u001b[0m\u001b[1;33m\u001b[0m\u001b[1;33m\u001b[0m\u001b[0m\n\u001b[1;32m----> 2\u001b[1;33m \u001b[0mconditions\u001b[0m \u001b[1;33m=\u001b[0m \u001b[0mgetTextAfterHeading\u001b[0m\u001b[1;33m(\u001b[0m\u001b[0mpage_contents\u001b[0m\u001b[1;33m,\u001b[0m\u001b[1;34m'locations  Good Fair Poor Intact Failed Repaired  '\u001b[0m\u001b[1;33m,\u001b[0m \u001b[1;36m1\u001b[0m\u001b[1;33m)\u001b[0m\u001b[1;33m\u001b[0m\u001b[1;33m\u001b[0m\u001b[0m\n\u001b[0m",
      "\u001b[1;32m~\\AppData\\Local\\Temp\\ipykernel_10276\\297100990.py\u001b[0m in \u001b[0;36mgetTextAfterHeading\u001b[1;34m(page_contents, Text, AdjacentLineNumber)\u001b[0m\n\u001b[0;32m     40\u001b[0m         \u001b[0mpage\u001b[0m \u001b[1;33m=\u001b[0m \u001b[0mpage_contents\u001b[0m\u001b[1;33m[\u001b[0m\u001b[0mx\u001b[0m\u001b[1;33m[\u001b[0m\u001b[1;36m1\u001b[0m\u001b[1;33m]\u001b[0m\u001b[1;33m]\u001b[0m\u001b[1;33m\u001b[0m\u001b[1;33m\u001b[0m\u001b[0m\n\u001b[0;32m     41\u001b[0m     \u001b[1;32melse\u001b[0m\u001b[1;33m:\u001b[0m\u001b[1;33m\u001b[0m\u001b[1;33m\u001b[0m\u001b[0m\n\u001b[1;32m---> 42\u001b[1;33m         \u001b[0mpage\u001b[0m \u001b[1;33m=\u001b[0m \u001b[0mpage_contents\u001b[0m\u001b[1;33m[\u001b[0m\u001b[0mx\u001b[0m\u001b[1;33m[\u001b[0m\u001b[1;36m0\u001b[0m\u001b[1;33m]\u001b[0m\u001b[1;33m]\u001b[0m\u001b[1;33m\u001b[0m\u001b[1;33m\u001b[0m\u001b[0m\n\u001b[0m\u001b[0;32m     43\u001b[0m \u001b[1;33m\u001b[0m\u001b[0m\n\u001b[0;32m     44\u001b[0m     \u001b[1;32mfor\u001b[0m \u001b[0mind\u001b[0m\u001b[1;33m,\u001b[0m\u001b[0mitem\u001b[0m \u001b[1;32min\u001b[0m \u001b[0menumerate\u001b[0m\u001b[1;33m(\u001b[0m\u001b[0mpage\u001b[0m\u001b[1;33m)\u001b[0m\u001b[1;33m:\u001b[0m\u001b[1;33m\u001b[0m\u001b[1;33m\u001b[0m\u001b[0m\n",
      "\u001b[1;31mIndexError\u001b[0m: list index out of range"
     ]
    }
   ],
   "source": [
    "\n",
    "# -- extracting coating and anomaly conditions\n",
    "conditions = getTextAfterHeading(page_contents,'locations  Good Fair Poor Intact Failed Repaired  ', 1)"
   ]
  },
  {
   "cell_type": "code",
   "execution_count": 10,
   "metadata": {},
   "outputs": [
    {
     "data": {
      "text/plain": [
       "'Anomaly '"
      ]
     },
     "execution_count": 10,
     "metadata": {},
     "output_type": "execute_result"
    }
   ],
   "source": [
    "cf"
   ]
  },
  {
   "cell_type": "markdown",
   "metadata": {},
   "source": [
    "## Using Tabula"
   ]
  },
  {
   "cell_type": "code",
   "execution_count": 12,
   "metadata": {},
   "outputs": [],
   "source": [
    "tables = read_pdf(file_path,pages=7)"
   ]
  },
  {
   "cell_type": "code",
   "execution_count": null,
   "metadata": {},
   "outputs": [],
   "source": []
  },
  {
   "cell_type": "code",
   "execution_count": 15,
   "metadata": {},
   "outputs": [
    {
     "data": {
      "text/plain": [
       "1"
      ]
     },
     "execution_count": 15,
     "metadata": {},
     "output_type": "execute_result"
    }
   ],
   "source": [
    "len(tables)"
   ]
  },
  {
   "cell_type": "code",
   "execution_count": null,
   "metadata": {},
   "outputs": [],
   "source": []
  }
 ],
 "metadata": {
  "kernelspec": {
   "display_name": "base",
   "language": "python",
   "name": "python3"
  },
  "language_info": {
   "codemirror_mode": {
    "name": "ipython",
    "version": 3
   },
   "file_extension": ".py",
   "mimetype": "text/x-python",
   "name": "python",
   "nbconvert_exporter": "python",
   "pygments_lexer": "ipython3",
   "version": "3.9.13"
  },
  "orig_nbformat": 4,
  "vscode": {
   "interpreter": {
    "hash": "23558032b00ee6b68473e6823c75ce9d636029f112ff94112151df65d8686c23"
   }
  }
 },
 "nbformat": 4,
 "nbformat_minor": 2
}
