{
 "cells": [
  {
   "cell_type": "code",
   "execution_count": 3,
   "metadata": {},
   "outputs": [],
   "source": [
    "# -- importing libraries\n",
    "import PyPDF2\n",
    "import os, sys\n",
    "\n",
    "# %%\n",
    "# -- specifying file name and location\n",
    "parent_path = 'C:/Users/nisha/OneDrive - Floating Solutions Consulting/Documents/04. Projects/SAN-06 HISIM/03. Working/Integrity Management/2022/Inspection Reports'\n",
    "file_name =  '4035479-001 - NV.CPR.Rev.B.pdf'\n",
    "file_path = os.path.join(parent_path,file_name)\n",
    "#%%\n",
    "# --  creating a pdf object\n",
    "pdfFileObj = open(file_path, 'rb')\n",
    "pdf = PyPDF2.PdfFileReader(pdfFileObj)\n"
   ]
  },
  {
   "cell_type": "markdown",
   "metadata": {},
   "source": [
    "### The functions"
   ]
  },
  {
   "cell_type": "code",
   "execution_count": 51,
   "metadata": {},
   "outputs": [],
   "source": [
    "# -- create a page object\n",
    "\n",
    "def getContentsFromPages(pdf):\n",
    "    '''Takes in pdf object,\n",
    "    Create a list for page numbers\n",
    "    Create a list for content in the pages\n",
    "    Zip them into a dictionary so that it can be sliced based on page number\n",
    "    '''\n",
    "    number_of_pages = pdf.numPages\n",
    "    page_index = [i for i in range(number_of_pages)]\n",
    "    page_content_list = [pdf.getPage(i).extract_text() for i in page_index]\n",
    "    page_index = [i+1 for i in range(number_of_pages)]\n",
    "    content_dict = dict(zip(page_index,page_content_list))\n",
    "    return content_dict\n",
    "\n",
    "\n",
    "def splitByLines(page_content_raw):\n",
    "    '''Split each page of the pdf by lines\n",
    "    and store them as lists into the same dictionary\n",
    "    '''\n",
    "    page_content = {}\n",
    "    for key,value in page_content_raw.items():\n",
    "        new_value = value.split('\\n')\n",
    "        page_content.update({key:new_value})\n",
    "    return page_content\n",
    "\n",
    "def pageWithSpecificText(page_contents,Text):\n",
    "    x = []\n",
    "    for key,value in page_contents.items():\n",
    "        for ind,i in enumerate(value):\n",
    "            if i.count(Text) >= 1:\n",
    "                x.append(key)\n",
    "                \n",
    "    return x\n",
    "\n",
    "\n",
    "def getTextAfterHeading(page_contents,Text,AdjacentLineNumber):\n",
    "    x = pageWithSpecificText(page_contents,Text)\n",
    "    if len(x)>1:\n",
    "        page = page_contents[x[1]]\n",
    "    else:\n",
    "        page = page_contents[x[0]]\n",
    "        \n",
    "    for ind,item in enumerate(page):\n",
    "        if item.count(Text):\n",
    "            z = page[ind+AdjacentLineNumber]\n",
    "        else:\n",
    "            pass\n",
    "    return z"
   ]
  },
  {
   "cell_type": "code",
   "execution_count": 54,
   "metadata": {},
   "outputs": [
    {
     "data": {
      "text/plain": [
       "''"
      ]
     },
     "execution_count": 54,
     "metadata": {},
     "output_type": "execute_result"
    }
   ],
   "source": [
    "# --  Extract contents of the page and store into a dictionary with page numbers as keys\n",
    "page_content_raw = getContentsFromPages(pdf)\n",
    "\n",
    "# -- extract text from page\n",
    "page_contents = splitByLines(page_content_raw)\n",
    "\n",
    "\n",
    "# -- extracting critical findings\n",
    "cf = getTextAfterHeading(page_contents,'Critical Findings',2)\n",
    "\n",
    "# -- extracting coating and anomaly conditions\n",
    "conditions = getTextAfterHeading(page_contents,'locations  Good Fair Poor Intact Failed Repaired  ', 1)\n",
    "\"\""
   ]
  },
  {
   "cell_type": "code",
   "execution_count": null,
   "metadata": {},
   "outputs": [],
   "source": []
  }
 ],
 "metadata": {
  "kernelspec": {
   "display_name": "base",
   "language": "python",
   "name": "python3"
  },
  "language_info": {
   "codemirror_mode": {
    "name": "ipython",
    "version": 3
   },
   "file_extension": ".py",
   "mimetype": "text/x-python",
   "name": "python",
   "nbconvert_exporter": "python",
   "pygments_lexer": "ipython3",
   "version": "3.9.13"
  },
  "orig_nbformat": 4,
  "vscode": {
   "interpreter": {
    "hash": "23558032b00ee6b68473e6823c75ce9d636029f112ff94112151df65d8686c23"
   }
  }
 },
 "nbformat": 4,
 "nbformat_minor": 2
}
