{
 "cells": [
  {
   "cell_type": "code",
   "execution_count": 1,
   "metadata": {},
   "outputs": [],
   "source": [
    "# -- importing libraries\n",
    "import PyPDF2\n",
    "import os, sys\n",
    "\n",
    "# %%\n",
    "# -- specifying file name and location\n",
    "parent_path = 'C:/Users/nisha/OneDrive - Floating Solutions Consulting/Documents/04. Projects/SAN-06 HISIM/03. Working/Integrity Management/2022/Inspection Reports/Reviewed_CSP'\n",
    "file_name =  '4035479-022 - NV.7PWBT.Rev.B_CHU.pdf'\n",
    "file_path = os.path.join(parent_path,file_name)\n",
    "\n",
    "#%%\n",
    "# --  creating a pdf object\n",
    "pdfFileObj = open(file_path, 'rb')\n",
    "pdf = PyPDF2.PdfFileReader(pdfFileObj)\n",
    "from tabula import read_pdf"
   ]
  },
  {
   "cell_type": "markdown",
   "metadata": {},
   "source": [
    "### The functions"
   ]
  },
  {
   "cell_type": "code",
   "execution_count": 24,
   "metadata": {},
   "outputs": [],
   "source": [
    "# -- create a page object\n",
    "\n",
    "def getContentsFromPages(pdf):\n",
    "    '''Takes in pdf object,\n",
    "    Create a list for page numbers\n",
    "    Create a list for content in the pages\n",
    "    Zip them into a dictionary so that it can be sliced based on page number\n",
    "    '''\n",
    "    number_of_pages = pdf.numPages\n",
    "    page_index = [i for i in range(number_of_pages)]\n",
    "    page_content_list = [pdf.getPage(i).extract_text() for i in page_index]\n",
    "    page_index = [i+1 for i in range(number_of_pages)]\n",
    "    content_dict = dict(zip(page_index,page_content_list))\n",
    "    return content_dict\n",
    "\n",
    "\n",
    "def splitByLines(page_content_raw):\n",
    "    '''Split each page of the pdf by lines\n",
    "    and store them as lists into the same dictionary\n",
    "    '''\n",
    "    page_content = {}\n",
    "    for key,value in page_content_raw.items():\n",
    "        new_value = value.split('\\n')\n",
    "        page_content.update({key:new_value})\n",
    "    return page_content\n",
    "\n",
    "def pageWithSpecificText(page_contents,Text):\n",
    "    x = []\n",
    "    for key,value in page_contents.items():\n",
    "        for ind,i in enumerate(value):\n",
    "            if i.count(Text) >= 1:\n",
    "                x.append(key)\n",
    "                \n",
    "    return x\n",
    "\n",
    "\n",
    "def getTextAfterHeading(page_contents,Text,AdjacentLineNumber):\n",
    "    x = pageWithSpecificText(page_contents,Text)\n",
    "    if len(x)>1:\n",
    "        page = page_contents[x[1]]\n",
    "    else:\n",
    "        page = page_contents[x[0]]\n",
    "        \n",
    "    for ind,item in enumerate(page):\n",
    "        if item.count(Text):\n",
    "            z = page[ind+AdjacentLineNumber]\n",
    "        else:\n",
    "            pass\n",
    "    return z"
   ]
  },
  {
   "cell_type": "code",
   "execution_count": 25,
   "metadata": {},
   "outputs": [],
   "source": [
    "# --  Extract contents of the page and store into a dictionary with page numbers as keys\n",
    "page_content_raw = getContentsFromPages(pdf)\n"
   ]
  },
  {
   "cell_type": "code",
   "execution_count": 42,
   "metadata": {},
   "outputs": [
    {
     "data": {
      "text/plain": [
       "['\\n1 79 - 80 DL08 – DL20 (P)',\n",
       " 'General coating breakdown with exposed substrate and associated \\nactive corrosion.',\n",
       " '\\n2 75 - 76 DL04 – DL20 (P)',\n",
       " 'General coating breakdown with exposed substrate and scattered \\npitting (intensity is approximately 15%).',\n",
       " '\\n3 78 – 80 DL23 - DL25 (P)',\n",
       " 'Isolated pitting, with approximately 10% intensity, across the \\nwalkway.',\n",
       " '\\n4 69 - 70 DL18 - DL23 (P)',\n",
       " 'General coating breakdow n with exposed substrate and associated \\nactive corrosion.',\n",
       " '\\n5 66 - 67 DL18 - DL21 (P)',\n",
       " 'Areas of general coating breakdown with associated pitting \\ncorrosion; combination of areas of arrested and active corrosion.',\n",
       " '\\n6 61 - 62 DL20 – 22 (P)',\n",
       " 'General coating breakdown with exposed substrate and associated \\nactive corrosion.',\n",
       " '\\n7 61 - 62 DL12 - DL16 (P)',\n",
       " 'General coating breakdown with exposed substrate and associated \\nactive corrosion.',\n",
       " '\\n8 51 – 52 DL06 – DL08 (P)',\n",
       " 'General and localised',\n",
       " 'coating breakdown with exposed substrate \\nand associated active corrosion over a weld seam and adjacent \\nplating.',\n",
       " '\\n9 46 – 47 DL23 - DL25 (S)',\n",
       " 'General coating breakdown with exposed substrate and associated \\nactive corrosion located under the access walkway.',\n",
       " '\\n10 48 – 49 DL03 – DL06 (S)',\n",
       " 'General coating breakdown with exposed substrate and active \\ncorrosion.',\n",
       " '\\n11 51 – 52 DL12 - DL13 (S)',\n",
       " 'Localised coating breakdown with exposed substrate and \\nassociated active corrosion over a weld seam of an insert plate a nd \\nadjacent plating.',\n",
       " '\\n12 56 - 57 DL23 – DL25 (S)',\n",
       " 'Isolated coating breakdown with exposed substrate and associated \\nactive corrosion over a weld seam and adjacent plating.',\n",
       " '\\n13 70 – 71 DL14 - DL20 (S)',\n",
       " 'General coating breakdown with associated pitting corrosion; \\nintensity was approximately 10%.',\n",
       " '\\n14 74 – 75 DL05 – DL08 (S)',\n",
       " 'Localised coating breakdown with exposed substrate and \\nassociated active corrosion.',\n",
       " '\\n15 74 – 77 DL20 - DL25 (S)',\n",
       " 'General coating break down with exposed substrate and associated \\nactive corrosion across the walkway.',\n",
       " '\\n16 77 – 79 DL20 - DL25(S)',\n",
       " 'General coating breakdown with exposed substrate and associated \\nactive corrosion across the walkway.',\n",
       " '\\n17 86 - 87 DL25 –',\n",
       " '\\nSide Shell (S)',\n",
       " 'Localised coating breakdown at the Side Shell connection to the \\nDeck Plate with associated active corrosion.',\n",
       " '\\n18 86 – 87 DL25 –',\n",
       " '\\nSide Shell (S)',\n",
       " 'Localised coating breakdown at the Side Shell connection to the \\nMain Deck Plate with associated active corrosion . \\n19 60 – 61 DL18 - DL20 (P)',\n",
       " 'Isolated area of coating breakdown and active corrosion over a \\nweld seam of an insert plate and adjacent plating.',\n",
       " '\\n20 56 DL10 - DL11 (P)',\n",
       " 'Coating breakdown and associated active corrosion at a weld \\nconnection between a module support and the adjacent plating.',\n",
       " '\\n21 56 – 57 DL01 – DL02 (P)',\n",
       " 'Isolated area of coating breakdown and associated active corrosion \\nadjacent to the module support.',\n",
       " '\\n22 60 – 61 DL13 - DL14 (P)',\n",
       " 'Isolated coating breakdown and associated active corrosion on the \\nMain Deck Plating surrounding a pipe support structure.',\n",
       " '\\n23 84 – 85 DL04 – DL05 (P)',\n",
       " 'Isolated coating breakdown and associated active corrosion on the \\nMain Deck Plating around a penetration.',\n",
       " '\\n24 80 - 81 DL09 - DL20 (S)',\n",
       " 'General coating breakdown with exposed substrate and associated \\nactive corrosion located under the access walkway.',\n",
       " '\\n. \\n',\n",
       " '']"
      ]
     },
     "execution_count": 42,
     "metadata": {},
     "output_type": "execute_result"
    }
   ],
   "source": [
    "page_content_raw[175].split('  ')[15:]"
   ]
  },
  {
   "cell_type": "code",
   "execution_count": 26,
   "metadata": {},
   "outputs": [],
   "source": [
    "\n",
    "# -- extract text from page\n",
    "page_contents = splitByLines(page_content_raw)\n",
    "\n"
   ]
  },
  {
   "cell_type": "code",
   "execution_count": 27,
   "metadata": {},
   "outputs": [],
   "source": [
    "\n",
    "# -- extracting critical findings\n",
    "cf = getTextAfterHeading(page_contents,'Critical Findings',2)\n"
   ]
  },
  {
   "cell_type": "code",
   "execution_count": 28,
   "metadata": {},
   "outputs": [
    {
     "data": {
      "text/plain": [
       "'No critical findings were noted during  the inspection.  '"
      ]
     },
     "execution_count": 28,
     "metadata": {},
     "output_type": "execute_result"
    }
   ],
   "source": [
    "cf"
   ]
  },
  {
   "cell_type": "code",
   "execution_count": 29,
   "metadata": {},
   "outputs": [
    {
     "ename": "IndexError",
     "evalue": "list index out of range",
     "output_type": "error",
     "traceback": [
      "\u001b[1;31m---------------------------------------------------------------------------\u001b[0m",
      "\u001b[1;31mIndexError\u001b[0m                                Traceback (most recent call last)",
      "\u001b[1;32m~\\AppData\\Local\\Temp\\ipykernel_32580\\3402721328.py\u001b[0m in \u001b[0;36m<module>\u001b[1;34m\u001b[0m\n\u001b[0;32m      1\u001b[0m \u001b[1;31m# -- extracting coating and anomaly conditions\u001b[0m\u001b[1;33m\u001b[0m\u001b[1;33m\u001b[0m\u001b[0m\n\u001b[1;32m----> 2\u001b[1;33m \u001b[0mconditions\u001b[0m \u001b[1;33m=\u001b[0m \u001b[0mgetTextAfterHeading\u001b[0m\u001b[1;33m(\u001b[0m\u001b[0mpage_contents\u001b[0m\u001b[1;33m,\u001b[0m\u001b[1;34m'locations  Good Fair Poor Intact Failed Repaired  '\u001b[0m\u001b[1;33m,\u001b[0m \u001b[1;36m1\u001b[0m\u001b[1;33m)\u001b[0m\u001b[1;33m\u001b[0m\u001b[1;33m\u001b[0m\u001b[0m\n\u001b[0m",
      "\u001b[1;32m~\\AppData\\Local\\Temp\\ipykernel_32580\\297100990.py\u001b[0m in \u001b[0;36mgetTextAfterHeading\u001b[1;34m(page_contents, Text, AdjacentLineNumber)\u001b[0m\n\u001b[0;32m     40\u001b[0m         \u001b[0mpage\u001b[0m \u001b[1;33m=\u001b[0m \u001b[0mpage_contents\u001b[0m\u001b[1;33m[\u001b[0m\u001b[0mx\u001b[0m\u001b[1;33m[\u001b[0m\u001b[1;36m1\u001b[0m\u001b[1;33m]\u001b[0m\u001b[1;33m]\u001b[0m\u001b[1;33m\u001b[0m\u001b[1;33m\u001b[0m\u001b[0m\n\u001b[0;32m     41\u001b[0m     \u001b[1;32melse\u001b[0m\u001b[1;33m:\u001b[0m\u001b[1;33m\u001b[0m\u001b[1;33m\u001b[0m\u001b[0m\n\u001b[1;32m---> 42\u001b[1;33m         \u001b[0mpage\u001b[0m \u001b[1;33m=\u001b[0m \u001b[0mpage_contents\u001b[0m\u001b[1;33m[\u001b[0m\u001b[0mx\u001b[0m\u001b[1;33m[\u001b[0m\u001b[1;36m0\u001b[0m\u001b[1;33m]\u001b[0m\u001b[1;33m]\u001b[0m\u001b[1;33m\u001b[0m\u001b[1;33m\u001b[0m\u001b[0m\n\u001b[0m\u001b[0;32m     43\u001b[0m \u001b[1;33m\u001b[0m\u001b[0m\n\u001b[0;32m     44\u001b[0m     \u001b[1;32mfor\u001b[0m \u001b[0mind\u001b[0m\u001b[1;33m,\u001b[0m\u001b[0mitem\u001b[0m \u001b[1;32min\u001b[0m \u001b[0menumerate\u001b[0m\u001b[1;33m(\u001b[0m\u001b[0mpage\u001b[0m\u001b[1;33m)\u001b[0m\u001b[1;33m:\u001b[0m\u001b[1;33m\u001b[0m\u001b[1;33m\u001b[0m\u001b[0m\n",
      "\u001b[1;31mIndexError\u001b[0m: list index out of range"
     ]
    }
   ],
   "source": [
    "\n",
    "# -- extracting coating and anomaly conditions\n",
    "conditions = getTextAfterHeading(page_contents,'locations  Good Fair Poor Intact Failed Repaired  ', 1)"
   ]
  },
  {
   "cell_type": "code",
   "execution_count": 30,
   "metadata": {},
   "outputs": [
    {
     "data": {
      "text/plain": [
       "'No critical findings were noted during  the inspection.  '"
      ]
     },
     "execution_count": 30,
     "metadata": {},
     "output_type": "execute_result"
    }
   ],
   "source": [
    "cf"
   ]
  },
  {
   "cell_type": "markdown",
   "metadata": {},
   "source": [
    "## Using Tabula"
   ]
  },
  {
   "cell_type": "code",
   "execution_count": 31,
   "metadata": {},
   "outputs": [],
   "source": [
    "tables = read_pdf(file_path,pages=176)"
   ]
  },
  {
   "cell_type": "code",
   "execution_count": 32,
   "metadata": {},
   "outputs": [
    {
     "data": {
      "text/plain": [
       "[                    Unnamed: 0  \\\n",
       " 0                          NaN   \n",
       " 1                          NaN   \n",
       " 2                          NaN   \n",
       " 3                          NaN   \n",
       " 4  General view of Area No. 2.   \n",
       " 5                          NaN   \n",
       " 6  General view of Area No. 3.   \n",
       " 7                          NaN   \n",
       " 8  General view of Area No. 4.   \n",
       " \n",
       "                                    ontinuation Page:  Unnamed: 1  \\\n",
       " 0                                          eport No.         NaN   \n",
       " 1                                               sset         NaN   \n",
       " 2                                        hotographs:         NaN   \n",
       " 3                                                NaN         NaN   \n",
       " 4  Closeupviewshowingthescatteredpitting\\r(typica...         NaN   \n",
       " 5                                                NaN         NaN   \n",
       " 6  Closeupviewshowingthetypicalcoating\\rbreakdown...         NaN   \n",
       " 7                                                NaN         NaN   \n",
       " 8  Closeupviewshowingthetypicalcorrosion\\rfound a...         NaN   \n",
       " \n",
       "              Unnamed: 2  Unnamed: 3 Unnamed: 4  Unnamed: 5  Unnamed: 6  \\\n",
       " 0         NV-EXT-FR-108         NaN       Date         NaN  03/08/2022   \n",
       " 1  Ningaloo Vision FPSO         NaN       Page         NaN           3   \n",
       " 2                   NaN         NaN        NaN         NaN         NaN   \n",
       " 3                   NaN         NaN        NaN         NaN         NaN   \n",
       " 4                   NaN         NaN        NaN         NaN         NaN   \n",
       " 5                   NaN         NaN        NaN         NaN         NaN   \n",
       " 6                   NaN         NaN        NaN         NaN         NaN   \n",
       " 7                   NaN         NaN        NaN         NaN         NaN   \n",
       " 8                   NaN         NaN        NaN         NaN         NaN   \n",
       " \n",
       "   Unnamed: 7  Unnamed: 8  \n",
       " 0        NaN         NaN  \n",
       " 1         of        14.0  \n",
       " 2        NaN         NaN  \n",
       " 3        NaN         NaN  \n",
       " 4        NaN         NaN  \n",
       " 5        NaN         NaN  \n",
       " 6        NaN         NaN  \n",
       " 7        NaN         NaN  \n",
       " 8        NaN         NaN  ]"
      ]
     },
     "execution_count": 32,
     "metadata": {},
     "output_type": "execute_result"
    }
   ],
   "source": [
    "tables"
   ]
  },
  {
   "cell_type": "code",
   "execution_count": 18,
   "metadata": {},
   "outputs": [
    {
     "data": {
      "text/plain": [
       "1"
      ]
     },
     "execution_count": 18,
     "metadata": {},
     "output_type": "execute_result"
    }
   ],
   "source": [
    "len(tables)"
   ]
  },
  {
   "cell_type": "code",
   "execution_count": null,
   "metadata": {},
   "outputs": [],
   "source": []
  }
 ],
 "metadata": {
  "kernelspec": {
   "display_name": "base",
   "language": "python",
   "name": "python3"
  },
  "language_info": {
   "codemirror_mode": {
    "name": "ipython",
    "version": 3
   },
   "file_extension": ".py",
   "mimetype": "text/x-python",
   "name": "python",
   "nbconvert_exporter": "python",
   "pygments_lexer": "ipython3",
   "version": "3.9.13"
  },
  "orig_nbformat": 4,
  "vscode": {
   "interpreter": {
    "hash": "23558032b00ee6b68473e6823c75ce9d636029f112ff94112151df65d8686c23"
   }
  }
 },
 "nbformat": 4,
 "nbformat_minor": 2
}
