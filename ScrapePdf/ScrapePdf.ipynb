{
 "cells": [
  {
   "cell_type": "code",
   "execution_count": 2,
   "metadata": {},
   "outputs": [],
   "source": [
    "# -- importing libraries\n",
    "import PyPDF2\n",
    "import os, sys\n",
    "\n",
    "# %%\n",
    "# -- specifying file name and location\n",
    "parent_path = 'C:/Users/nisha/OneDrive - Floating Solutions Consulting/Documents/04. Projects/SAN-06 HISIM/03. Working/Integrity Management/2022/Inspection Reports/Reviewed_CSP'\n",
    "file_name =  '4035479-022 - NV.7PWBT.Rev.B_CHU.pdf'\n",
    "file_path = os.path.join(parent_path,file_name)\n",
    "\n",
    "#%%\n",
    "# --  creating a pdf object\n",
    "pdfFileObj = open(file_path, 'rb')\n",
    "pdf = PyPDF2.PdfFileReader(pdfFileObj)\n",
    "from tabula import read_pdf"
   ]
  },
  {
   "cell_type": "markdown",
   "metadata": {},
   "source": [
    "### The functions"
   ]
  },
  {
   "cell_type": "code",
   "execution_count": 3,
   "metadata": {},
   "outputs": [],
   "source": [
    "# -- create a page object\n",
    "\n",
    "def getContentsFromPages(pdf):\n",
    "    '''Takes in pdf object,\n",
    "    Create a list for page numbers\n",
    "    Create a list for content in the pages\n",
    "    Zip them into a dictionary so that it can be sliced based on page number\n",
    "    '''\n",
    "    number_of_pages = pdf.numPages\n",
    "    page_index = [i for i in range(number_of_pages)]\n",
    "    page_content_list = [pdf.getPage(i).extract_text() for i in page_index]\n",
    "    page_index = [i+1 for i in range(number_of_pages)]\n",
    "    content_dict = dict(zip(page_index,page_content_list))\n",
    "    return content_dict\n",
    "\n",
    "\n",
    "def splitByLines(page_content_raw):\n",
    "    '''Split each page of the pdf by lines\n",
    "    and store them as lists into the same dictionary\n",
    "    '''\n",
    "    page_content = {}\n",
    "    for key,value in page_content_raw.items():\n",
    "        new_value = value.split('\\n')\n",
    "        page_content.update({key:new_value})\n",
    "    return page_content\n",
    "\n",
    "def pageWithSpecificText(page_contents,Text):\n",
    "    x = []\n",
    "    for key,value in page_contents.items():\n",
    "        for ind,i in enumerate(value):\n",
    "            if i.count(Text) >= 1:\n",
    "                x.append(key)\n",
    "                \n",
    "    return x\n",
    "\n",
    "\n",
    "def getTextAfterHeading(page_contents,Text,AdjacentLineNumber):\n",
    "    x = pageWithSpecificText(page_contents,Text)\n",
    "    if len(x)>1:\n",
    "        page = page_contents[x[1]]\n",
    "    else:\n",
    "        page = page_contents[x[0]]\n",
    "        \n",
    "    for ind,item in enumerate(page):\n",
    "        if item.count(Text):\n",
    "            z = page[ind+AdjacentLineNumber]\n",
    "        else:\n",
    "            pass\n",
    "    return z"
   ]
  },
  {
   "cell_type": "code",
   "execution_count": 4,
   "metadata": {},
   "outputs": [],
   "source": [
    "# --  Extract contents of the page and store into a dictionary with page numbers as keys\n",
    "page_content_raw = getContentsFromPages(pdf)\n"
   ]
  },
  {
   "cell_type": "code",
   "execution_count": 9,
   "metadata": {},
   "outputs": [
    {
     "data": {
      "text/plain": [
       "[' \\n \\n \\nClient: Santos Limited',\n",
       " ' Report Number:',\n",
       " '4035479 -022 \\nwww.applus.com',\n",
       " ' Page 5 of 26 \\n \\nRe86P Rev 0',\n",
       " '\\n2.4 Scope of Inspection',\n",
       " ' \\n \\n2.4.1',\n",
       " 'Arrest and Monitor',\n",
       " '\\n \\nThe scope consists of the re -inspection of all ‘Arrest and Monitor’ anomalies recorded during Special Survey 8. The table below details the inspections re quired \\nwithin the No. 7 Port Water Ballast Tank.',\n",
       " '\\n \\nNo.',\n",
       " 'Report Reference',\n",
       " 'Location',\n",
       " 'Location Description',\n",
       " 'Anomaly Type',\n",
       " 'Coating Assessment \\n(2021 ) \\n1 7PWBT -LBHD -CR-003 Frame Nos 53 - 54 L53-UD-Plating',\n",
       " 'Arrested Wastage',\n",
       " 'Good \\n2 7PWBT -LBHD -CR-010 Frame Nos 53 - 54 L43-44-Plating',\n",
       " 'Arrested Wastage',\n",
       " 'Good \\n3 7PWBT -LBHD -CR-013 Frame Nos 53 - 54 L42-43-Plating',\n",
       " 'Arrested Wastage',\n",
       " 'Good \\n4 7PWBT -LBHD -CR-014 Frame Nos 53 - 54 L41-42-Plating',\n",
       " 'Arrested Wastage',\n",
       " 'Good \\n5 7PWBT -LBHD -CR-015 Frame Nos 53 - 54 L41-42-Plating',\n",
       " 'Arrested Wastage',\n",
       " 'Good \\n6 7PWBT -LBHD -CR-016 Frame Nos 53 - 54 L40-41-Plating',\n",
       " 'Arrested Wastage',\n",
       " 'Good \\n7 7PWBT -LBHD -CR-017 Frame Nos 53 - 54 L31-32-Plating',\n",
       " 'Arrested Wastage',\n",
       " 'Good \\n8 7PWBT -LBHD -CR-018 Frame Nos 53 - 54 L30-31-Plating',\n",
       " 'Arrested Wastage',\n",
       " 'Good \\n9 7PWBT -LBHD -CR-019 Frame Nos 53 - 54 L30-31-Plating',\n",
       " 'Arrested Wastage',\n",
       " 'Good \\n10 7PWBT -LBHD -CR-020 Frame Nos 53 - 54 L29-30-Plating',\n",
       " 'Arrested Wastage',\n",
       " 'Good \\n11 7PWBT -LBHD -CR-021 Frame Nos 53 - 54 L28-29-Plating',\n",
       " 'Arrested Wastage',\n",
       " 'Good \\n12 7PWBT -LBHD -CR-025 Frame Nos 53 - 54 L26B-27-Plating',\n",
       " 'Arrested Wastage',\n",
       " 'Good \\n13 7PWBT -LBHD -CR-031 Frame Nos 51 - 52 L50-51-Plating',\n",
       " 'Arrested Wastage',\n",
       " 'Good \\n14 7PWBT -LBHD -CR-032 Frame Nos 51 - 52 L48-49-Plating',\n",
       " 'Arrested Wastage',\n",
       " 'Good \\n15 7PWBT -LBHD -CR-034 Frame Nos 51 - 52 L35-36-Plating',\n",
       " 'Arrested Wastage',\n",
       " 'Good \\n16 7PWBT -LBHD -CR-035 Frame Nos 51 - 52 L34-35-Plating',\n",
       " 'Arrested Wastage',\n",
       " 'Good \\n17 7PWBT -LBHD -CR-036 Frame Nos 51 - 52 L33-34-Plating',\n",
       " 'Arrested Wastage',\n",
       " 'Good \\n18 7PWBT -LBHD -CR-037 Frame Nos 51 - 52 L33-34-Plating',\n",
       " 'Arrested Wastage',\n",
       " 'Good \\n19 7PWBT -LBHD -CR-038 Frame Nos 50 - 51 L53-UD-Plating',\n",
       " 'Arrested Wastage',\n",
       " 'Good \\n20 7PWBT -LBHD -CR-039 Frame Nos 51 - 52 L49-50-Plating',\n",
       " 'Arrested Wastage',\n",
       " 'Good \\n21 7PWBT -LBHD -CR-043 Frame Nos 53 - 54 L42-43-Plating',\n",
       " 'Arrested Wastage',\n",
       " 'Good \\n22 7PWBT -FR51-CR-001 Frame No. 51',\n",
       " 'HS38-Web Arrested Wastage',\n",
       " 'Good \\n23 7PWBT -FR51-CR-002 Frame No. 51',\n",
       " 'HS29-31 Arrested Wastage',\n",
       " 'Good \\n24 7PWBT -FR53-CR-001 Frame No. 5 3 HS44-45 Arrested Wastage',\n",
       " 'Good ']"
      ]
     },
     "execution_count": 9,
     "metadata": {},
     "output_type": "execute_result"
    }
   ],
   "source": [
    "page_content_raw[5].split('  ')"
   ]
  },
  {
   "cell_type": "code",
   "execution_count": 26,
   "metadata": {},
   "outputs": [],
   "source": [
    "\n",
    "# -- extract text from page\n",
    "page_contents = splitByLines(page_content_raw)\n",
    "\n"
   ]
  },
  {
   "cell_type": "code",
   "execution_count": 27,
   "metadata": {},
   "outputs": [],
   "source": [
    "\n",
    "# -- extracting critical findings\n",
    "cf = getTextAfterHeading(page_contents,'Critical Findings',2)\n"
   ]
  },
  {
   "cell_type": "code",
   "execution_count": 28,
   "metadata": {},
   "outputs": [
    {
     "data": {
      "text/plain": [
       "'No critical findings were noted during  the inspection.  '"
      ]
     },
     "execution_count": 28,
     "metadata": {},
     "output_type": "execute_result"
    }
   ],
   "source": [
    "cf"
   ]
  },
  {
   "cell_type": "code",
   "execution_count": 29,
   "metadata": {},
   "outputs": [
    {
     "ename": "IndexError",
     "evalue": "list index out of range",
     "output_type": "error",
     "traceback": [
      "\u001b[1;31m---------------------------------------------------------------------------\u001b[0m",
      "\u001b[1;31mIndexError\u001b[0m                                Traceback (most recent call last)",
      "\u001b[1;32m~\\AppData\\Local\\Temp\\ipykernel_32580\\3402721328.py\u001b[0m in \u001b[0;36m<module>\u001b[1;34m\u001b[0m\n\u001b[0;32m      1\u001b[0m \u001b[1;31m# -- extracting coating and anomaly conditions\u001b[0m\u001b[1;33m\u001b[0m\u001b[1;33m\u001b[0m\u001b[0m\n\u001b[1;32m----> 2\u001b[1;33m \u001b[0mconditions\u001b[0m \u001b[1;33m=\u001b[0m \u001b[0mgetTextAfterHeading\u001b[0m\u001b[1;33m(\u001b[0m\u001b[0mpage_contents\u001b[0m\u001b[1;33m,\u001b[0m\u001b[1;34m'locations  Good Fair Poor Intact Failed Repaired  '\u001b[0m\u001b[1;33m,\u001b[0m \u001b[1;36m1\u001b[0m\u001b[1;33m)\u001b[0m\u001b[1;33m\u001b[0m\u001b[1;33m\u001b[0m\u001b[0m\n\u001b[0m",
      "\u001b[1;32m~\\AppData\\Local\\Temp\\ipykernel_32580\\297100990.py\u001b[0m in \u001b[0;36mgetTextAfterHeading\u001b[1;34m(page_contents, Text, AdjacentLineNumber)\u001b[0m\n\u001b[0;32m     40\u001b[0m         \u001b[0mpage\u001b[0m \u001b[1;33m=\u001b[0m \u001b[0mpage_contents\u001b[0m\u001b[1;33m[\u001b[0m\u001b[0mx\u001b[0m\u001b[1;33m[\u001b[0m\u001b[1;36m1\u001b[0m\u001b[1;33m]\u001b[0m\u001b[1;33m]\u001b[0m\u001b[1;33m\u001b[0m\u001b[1;33m\u001b[0m\u001b[0m\n\u001b[0;32m     41\u001b[0m     \u001b[1;32melse\u001b[0m\u001b[1;33m:\u001b[0m\u001b[1;33m\u001b[0m\u001b[1;33m\u001b[0m\u001b[0m\n\u001b[1;32m---> 42\u001b[1;33m         \u001b[0mpage\u001b[0m \u001b[1;33m=\u001b[0m \u001b[0mpage_contents\u001b[0m\u001b[1;33m[\u001b[0m\u001b[0mx\u001b[0m\u001b[1;33m[\u001b[0m\u001b[1;36m0\u001b[0m\u001b[1;33m]\u001b[0m\u001b[1;33m]\u001b[0m\u001b[1;33m\u001b[0m\u001b[1;33m\u001b[0m\u001b[0m\n\u001b[0m\u001b[0;32m     43\u001b[0m \u001b[1;33m\u001b[0m\u001b[0m\n\u001b[0;32m     44\u001b[0m     \u001b[1;32mfor\u001b[0m \u001b[0mind\u001b[0m\u001b[1;33m,\u001b[0m\u001b[0mitem\u001b[0m \u001b[1;32min\u001b[0m \u001b[0menumerate\u001b[0m\u001b[1;33m(\u001b[0m\u001b[0mpage\u001b[0m\u001b[1;33m)\u001b[0m\u001b[1;33m:\u001b[0m\u001b[1;33m\u001b[0m\u001b[1;33m\u001b[0m\u001b[0m\n",
      "\u001b[1;31mIndexError\u001b[0m: list index out of range"
     ]
    }
   ],
   "source": [
    "\n",
    "# -- extracting coating and anomaly conditions\n",
    "conditions = getTextAfterHeading(page_contents,'locations  Good Fair Poor Intact Failed Repaired  ', 1)"
   ]
  },
  {
   "cell_type": "code",
   "execution_count": 30,
   "metadata": {},
   "outputs": [
    {
     "data": {
      "text/plain": [
       "'No critical findings were noted during  the inspection.  '"
      ]
     },
     "execution_count": 30,
     "metadata": {},
     "output_type": "execute_result"
    }
   ],
   "source": [
    "cf"
   ]
  },
  {
   "cell_type": "markdown",
   "metadata": {},
   "source": [
    "## Using Tabula"
   ]
  },
  {
   "cell_type": "code",
   "execution_count": 31,
   "metadata": {},
   "outputs": [],
   "source": [
    "tables = read_pdf(file_path,pages=176)"
   ]
  },
  {
   "cell_type": "code",
   "execution_count": 32,
   "metadata": {},
   "outputs": [
    {
     "data": {
      "text/plain": [
       "[                    Unnamed: 0  \\\n",
       " 0                          NaN   \n",
       " 1                          NaN   \n",
       " 2                          NaN   \n",
       " 3                          NaN   \n",
       " 4  General view of Area No. 2.   \n",
       " 5                          NaN   \n",
       " 6  General view of Area No. 3.   \n",
       " 7                          NaN   \n",
       " 8  General view of Area No. 4.   \n",
       " \n",
       "                                    ontinuation Page:  Unnamed: 1  \\\n",
       " 0                                          eport No.         NaN   \n",
       " 1                                               sset         NaN   \n",
       " 2                                        hotographs:         NaN   \n",
       " 3                                                NaN         NaN   \n",
       " 4  Closeupviewshowingthescatteredpitting\\r(typica...         NaN   \n",
       " 5                                                NaN         NaN   \n",
       " 6  Closeupviewshowingthetypicalcoating\\rbreakdown...         NaN   \n",
       " 7                                                NaN         NaN   \n",
       " 8  Closeupviewshowingthetypicalcorrosion\\rfound a...         NaN   \n",
       " \n",
       "              Unnamed: 2  Unnamed: 3 Unnamed: 4  Unnamed: 5  Unnamed: 6  \\\n",
       " 0         NV-EXT-FR-108         NaN       Date         NaN  03/08/2022   \n",
       " 1  Ningaloo Vision FPSO         NaN       Page         NaN           3   \n",
       " 2                   NaN         NaN        NaN         NaN         NaN   \n",
       " 3                   NaN         NaN        NaN         NaN         NaN   \n",
       " 4                   NaN         NaN        NaN         NaN         NaN   \n",
       " 5                   NaN         NaN        NaN         NaN         NaN   \n",
       " 6                   NaN         NaN        NaN         NaN         NaN   \n",
       " 7                   NaN         NaN        NaN         NaN         NaN   \n",
       " 8                   NaN         NaN        NaN         NaN         NaN   \n",
       " \n",
       "   Unnamed: 7  Unnamed: 8  \n",
       " 0        NaN         NaN  \n",
       " 1         of        14.0  \n",
       " 2        NaN         NaN  \n",
       " 3        NaN         NaN  \n",
       " 4        NaN         NaN  \n",
       " 5        NaN         NaN  \n",
       " 6        NaN         NaN  \n",
       " 7        NaN         NaN  \n",
       " 8        NaN         NaN  ]"
      ]
     },
     "execution_count": 32,
     "metadata": {},
     "output_type": "execute_result"
    }
   ],
   "source": [
    "tables"
   ]
  },
  {
   "cell_type": "code",
   "execution_count": 18,
   "metadata": {},
   "outputs": [
    {
     "data": {
      "text/plain": [
       "1"
      ]
     },
     "execution_count": 18,
     "metadata": {},
     "output_type": "execute_result"
    }
   ],
   "source": [
    "len(tables)"
   ]
  },
  {
   "cell_type": "code",
   "execution_count": null,
   "metadata": {},
   "outputs": [],
   "source": []
  }
 ],
 "metadata": {
  "kernelspec": {
   "display_name": "base",
   "language": "python",
   "name": "python3"
  },
  "language_info": {
   "codemirror_mode": {
    "name": "ipython",
    "version": 3
   },
   "file_extension": ".py",
   "mimetype": "text/x-python",
   "name": "python",
   "nbconvert_exporter": "python",
   "pygments_lexer": "ipython3",
   "version": "3.9.13"
  },
  "orig_nbformat": 4,
  "vscode": {
   "interpreter": {
    "hash": "23558032b00ee6b68473e6823c75ce9d636029f112ff94112151df65d8686c23"
   }
  }
 },
 "nbformat": 4,
 "nbformat_minor": 2
}
