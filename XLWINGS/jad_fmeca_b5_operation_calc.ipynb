{
 "cells": [
  {
   "attachments": {},
   "cell_type": "markdown",
   "metadata": {},
   "source": [
    "### Libraries and source files"
   ]
  },
  {
   "cell_type": "code",
   "execution_count": 179,
   "metadata": {},
   "outputs": [],
   "source": [
    "\n",
    "import xlwings as xw\n",
    "import os\n",
    "import pandas as pd\n",
    "import numpy as np\n",
    "pd.options.display.max_rows = None\n",
    "pd.options.display.max_columns = None"
   ]
  },
  {
   "cell_type": "code",
   "execution_count": 180,
   "metadata": {},
   "outputs": [],
   "source": [
    "# --  Choose which file to import from below\n",
    "extended_df_name = 'extended_fmeca.xlsx' # The whole fmeca - which has all the newly calculated columns\n",
    "req_calc_name = 'fmeca_req_calc.xlsx' # A slice of the fmeca with selected columns that require calculation. The order of columns is important here.\n",
    "correct_abts_name = 'correct_abts.xlsx' # A slice of the fmeca which requires abt corrections.\n",
    "correct_dim_name = 'correct_dim.xlsx' # A slice of fmeca which requires correct diminution levels\n",
    "\n",
    "# -- File path to import from\n",
    "file_location = 'C:/Users/nisha/OneDrive - Floating Solutions Consulting/Documents/04. Projects/JAD-01 MV Main Deck/03. Working/FMECA/Batch 5 FMECA 2022/FMECA spreadsheets/AN_working/ProcessedData'"
   ]
  },
  {
   "cell_type": "code",
   "execution_count": 181,
   "metadata": {},
   "outputs": [],
   "source": [
    "df = pd.read_excel(os.path.join(file_location,req_calc_name),sheet_name='Sheet1')"
   ]
  },
  {
   "cell_type": "code",
   "execution_count": 182,
   "metadata": {},
   "outputs": [
    {
     "data": {
      "text/html": [
       "<div>\n",
       "<style scoped>\n",
       "    .dataframe tbody tr th:only-of-type {\n",
       "        vertical-align: middle;\n",
       "    }\n",
       "\n",
       "    .dataframe tbody tr th {\n",
       "        vertical-align: top;\n",
       "    }\n",
       "\n",
       "    .dataframe thead th {\n",
       "        text-align: right;\n",
       "    }\n",
       "</style>\n",
       "<table border=\"1\" class=\"dataframe\">\n",
       "  <thead>\n",
       "    <tr style=\"text-align: right;\">\n",
       "      <th></th>\n",
       "      <th>Stiffener(s)</th>\n",
       "      <th>stiff_anom_combo</th>\n",
       "      <th>stiffener_dim</th>\n",
       "      <th>h</th>\n",
       "      <th>grade</th>\n",
       "      <th>ps</th>\n",
       "      <th>Average UTM Reading (mm)</th>\n",
       "      <th>tp</th>\n",
       "      <th>tw</th>\n",
       "      <th>tf</th>\n",
       "      <th>Nearest transverse member (Fr., TWF,TBHD)</th>\n",
       "      <th>Longitudinal\\n(l) (distance\\nfrom in mm)</th>\n",
       "      <th>Frame(s)</th>\n",
       "      <th>Primary Structure</th>\n",
       "      <th>Final Anomaly description</th>\n",
       "      <th>Location</th>\n",
       "      <th>Detail</th>\n",
       "    </tr>\n",
       "  </thead>\n",
       "  <tbody>\n",
       "    <tr>\n",
       "      <th>0</th>\n",
       "      <td>BP</td>\n",
       "      <td>BP_4SWBT-LBHD- CR-545</td>\n",
       "      <td>350x19.5 + 0x0 L2</td>\n",
       "      <td>0.0</td>\n",
       "      <td>AH36</td>\n",
       "      <td>Sec</td>\n",
       "      <td>14.4</td>\n",
       "      <td>9.85</td>\n",
       "      <td>NaN</td>\n",
       "      <td>NaN</td>\n",
       "      <td>TB</td>\n",
       "      <td>0</td>\n",
       "      <td>FR-47</td>\n",
       "      <td>Long'l bhd</td>\n",
       "      <td>Generalised corrosion</td>\n",
       "      <td>Tank boundary plating</td>\n",
       "      <td>Greater than 6mm remaining</td>\n",
       "    </tr>\n",
       "  </tbody>\n",
       "</table>\n",
       "</div>"
      ],
      "text/plain": [
       "  Stiffener(s)       stiff_anom_combo      stiffener_dim    h grade   ps  \\\n",
       "0           BP  BP_4SWBT-LBHD- CR-545  350x19.5 + 0x0 L2  0.0  AH36  Sec   \n",
       "\n",
       "   Average UTM Reading (mm)    tp  tw  tf  \\\n",
       "0                      14.4  9.85 NaN NaN   \n",
       "\n",
       "  Nearest transverse member (Fr., TWF,TBHD)  \\\n",
       "0                                        TB   \n",
       "\n",
       "  Longitudinal\\n(l) (distance\\nfrom in mm) Frame(s) Primary Structure  \\\n",
       "0                                        0    FR-47        Long'l bhd   \n",
       "\n",
       "  Final Anomaly description               Location                      Detail  \n",
       "0     Generalised corrosion  Tank boundary plating  Greater than 6mm remaining  "
      ]
     },
     "execution_count": 182,
     "metadata": {},
     "output_type": "execute_result"
    }
   ],
   "source": [
    "df.head(1)"
   ]
  },
  {
   "attachments": {},
   "cell_type": "markdown",
   "metadata": {},
   "source": [
    "### Data cleaning\n",
    "\n",
    "Renaming parameters, harmonising structure names"
   ]
  },
  {
   "cell_type": "code",
   "execution_count": 183,
   "metadata": {},
   "outputs": [],
   "source": [
    "def renameColumns():\n",
    "    df.rename(columns={\"Stiffener(s)\":\"stiffener\",\"Nearest transverse member (Fr., TWF,TBHD)\":\"nearest_transverse\",\"Longitudinal\\n(l) (distance\\nfrom in mm)\":\"distance_to_transverse\",\"Frame(s)\":\"frame\",\n",
    "    \"Final Anomaly description\":\"anomaly_type\",\"Average UTM Reading (mm)\":\"Avg_utm\",\"Primary Structure\":\"primary_structure\",\"Location\":\"location\",\n",
    "    \"Detail\":\"detail\"},inplace=True)\n",
    "    return None\n",
    "\n",
    "renameColumns()"
   ]
  },
  {
   "cell_type": "code",
   "execution_count": 184,
   "metadata": {},
   "outputs": [
    {
     "data": {
      "text/plain": [
       "array(['FR-47', 'FR-46', 'FR-49', 'FR-48', 'TWF47-48', 'TWF54-55',\n",
       "       'TWF48-49', 'TWF50-51', 'TWF54', 'TWF46-47', '49-50', '52-53'],\n",
       "      dtype=object)"
      ]
     },
     "execution_count": 184,
     "metadata": {},
     "output_type": "execute_result"
    }
   ],
   "source": [
    "df[\"frame\"].unique()"
   ]
  },
  {
   "cell_type": "code",
   "execution_count": 185,
   "metadata": {},
   "outputs": [],
   "source": [
    "existing_map = ['FR-47', 'FR-46', 'FR-49', 'FR-48', 'TWF47-48', 'TWF54-55',\n",
    "       'TWF48-49', 'TWF50-51', 'TWF54', 'TWF46-47', '49-50', '52-53']\n",
    "new_map = ['FR-47', 'FR-46', 'FR-49', 'FR-48', 'FR-48', 'FR-55',\n",
    "       'FR-49', 'FR-51', 'FR-54', 'FR-47', 'FR-50', 'FR-53']\n",
    "\n",
    "map_dict = dict(zip(existing_map,new_map))"
   ]
  },
  {
   "cell_type": "code",
   "execution_count": 186,
   "metadata": {},
   "outputs": [],
   "source": [
    "df[\"frame\"] = df[\"frame\"].map(map_dict)"
   ]
  },
  {
   "cell_type": "code",
   "execution_count": 187,
   "metadata": {},
   "outputs": [
    {
     "data": {
      "text/html": [
       "<div>\n",
       "<style scoped>\n",
       "    .dataframe tbody tr th:only-of-type {\n",
       "        vertical-align: middle;\n",
       "    }\n",
       "\n",
       "    .dataframe tbody tr th {\n",
       "        vertical-align: top;\n",
       "    }\n",
       "\n",
       "    .dataframe thead th {\n",
       "        text-align: right;\n",
       "    }\n",
       "</style>\n",
       "<table border=\"1\" class=\"dataframe\">\n",
       "  <thead>\n",
       "    <tr style=\"text-align: right;\">\n",
       "      <th></th>\n",
       "      <th>stiffener</th>\n",
       "      <th>stiff_anom_combo</th>\n",
       "      <th>stiffener_dim</th>\n",
       "      <th>h</th>\n",
       "      <th>grade</th>\n",
       "      <th>ps</th>\n",
       "      <th>Avg_utm</th>\n",
       "      <th>tp</th>\n",
       "      <th>tw</th>\n",
       "      <th>tf</th>\n",
       "      <th>nearest_transverse</th>\n",
       "      <th>distance_to_transverse</th>\n",
       "      <th>frame</th>\n",
       "      <th>primary_structure</th>\n",
       "      <th>anomaly_type</th>\n",
       "      <th>location</th>\n",
       "      <th>detail</th>\n",
       "    </tr>\n",
       "  </thead>\n",
       "  <tbody>\n",
       "    <tr>\n",
       "      <th>0</th>\n",
       "      <td>BP</td>\n",
       "      <td>BP_4SWBT-LBHD- CR-545</td>\n",
       "      <td>350x19.5 + 0x0 L2</td>\n",
       "      <td>0.00</td>\n",
       "      <td>AH36</td>\n",
       "      <td>Sec</td>\n",
       "      <td>14.400000</td>\n",
       "      <td>9.850000</td>\n",
       "      <td>NaN</td>\n",
       "      <td>NaN</td>\n",
       "      <td>TB</td>\n",
       "      <td>0</td>\n",
       "      <td>FR-47</td>\n",
       "      <td>Long'l bhd</td>\n",
       "      <td>Generalised corrosion</td>\n",
       "      <td>Tank boundary plating</td>\n",
       "      <td>Greater than 6mm remaining</td>\n",
       "    </tr>\n",
       "    <tr>\n",
       "      <th>176</th>\n",
       "      <td>LL23</td>\n",
       "      <td>LL23_4SWBT-LBHD- CR-450</td>\n",
       "      <td>500x10.5 + 150x23 L2</td>\n",
       "      <td>4.49</td>\n",
       "      <td>AH36</td>\n",
       "      <td>Sec</td>\n",
       "      <td>11.566667</td>\n",
       "      <td>9.520000</td>\n",
       "      <td>NaN</td>\n",
       "      <td>NaN</td>\n",
       "      <td>TB</td>\n",
       "      <td>100</td>\n",
       "      <td>FR-47</td>\n",
       "      <td>Long'l bhd</td>\n",
       "      <td>Generalised corrosion</td>\n",
       "      <td>Tank boundary plating</td>\n",
       "      <td>Greater than 6mm remaining</td>\n",
       "    </tr>\n",
       "    <tr>\n",
       "      <th>177</th>\n",
       "      <td>LL23</td>\n",
       "      <td>LL23_4SWBT-LBHD- CR-451</td>\n",
       "      <td>500x10.5 + 150x23 L2</td>\n",
       "      <td>4.49</td>\n",
       "      <td>AH36</td>\n",
       "      <td>Sec</td>\n",
       "      <td>12.400000</td>\n",
       "      <td>10.600000</td>\n",
       "      <td>NaN</td>\n",
       "      <td>NaN</td>\n",
       "      <td>TB</td>\n",
       "      <td>530</td>\n",
       "      <td>FR-47</td>\n",
       "      <td>Long'l bhd</td>\n",
       "      <td>Generalised corrosion</td>\n",
       "      <td>Tank boundary plating</td>\n",
       "      <td>Greater than 6mm remaining</td>\n",
       "    </tr>\n",
       "    <tr>\n",
       "      <th>178</th>\n",
       "      <td>LL23</td>\n",
       "      <td>LL23_4SWBT-LBHD- CR-452</td>\n",
       "      <td>500x10.5 + 150x23 L2</td>\n",
       "      <td>4.49</td>\n",
       "      <td>AH36</td>\n",
       "      <td>Sec</td>\n",
       "      <td>0.000000</td>\n",
       "      <td>9.166667</td>\n",
       "      <td>NaN</td>\n",
       "      <td>NaN</td>\n",
       "      <td>TB</td>\n",
       "      <td>210</td>\n",
       "      <td>FR-47</td>\n",
       "      <td>Long'l bhd</td>\n",
       "      <td>Generalised corrosion</td>\n",
       "      <td>Tank boundary plating</td>\n",
       "      <td>Less than 6mm remaining</td>\n",
       "    </tr>\n",
       "    <tr>\n",
       "      <th>179</th>\n",
       "      <td>LL23</td>\n",
       "      <td>LL23_4SWBT-LBHD- CR-453</td>\n",
       "      <td>500x10.5 + 150x23 L2</td>\n",
       "      <td>4.49</td>\n",
       "      <td>AH36</td>\n",
       "      <td>Sec</td>\n",
       "      <td>11.400000</td>\n",
       "      <td>10.500000</td>\n",
       "      <td>NaN</td>\n",
       "      <td>NaN</td>\n",
       "      <td>TB</td>\n",
       "      <td>0</td>\n",
       "      <td>FR-47</td>\n",
       "      <td>Long'l bhd</td>\n",
       "      <td>Generalised corrosion</td>\n",
       "      <td>Tank boundary plating</td>\n",
       "      <td>Greater than 6mm remaining</td>\n",
       "    </tr>\n",
       "    <tr>\n",
       "      <th>220</th>\n",
       "      <td>LL27</td>\n",
       "      <td>LL27_4SWBT-LBHD- CR-538</td>\n",
       "      <td>350x10 + 100x14 L2</td>\n",
       "      <td>1.00</td>\n",
       "      <td>AH36</td>\n",
       "      <td>Sec</td>\n",
       "      <td>6.500000</td>\n",
       "      <td>11.433333</td>\n",
       "      <td>NaN</td>\n",
       "      <td>NaN</td>\n",
       "      <td>TB</td>\n",
       "      <td>530</td>\n",
       "      <td>FR-47</td>\n",
       "      <td>Long'l bhd</td>\n",
       "      <td>Generalised corrosion</td>\n",
       "      <td>Stiffener web</td>\n",
       "      <td>Greater than 6mm remaining</td>\n",
       "    </tr>\n",
       "  </tbody>\n",
       "</table>\n",
       "</div>"
      ],
      "text/plain": [
       "    stiffener         stiff_anom_combo         stiffener_dim     h grade   ps  \\\n",
       "0          BP    BP_4SWBT-LBHD- CR-545     350x19.5 + 0x0 L2  0.00  AH36  Sec   \n",
       "176      LL23  LL23_4SWBT-LBHD- CR-450  500x10.5 + 150x23 L2  4.49  AH36  Sec   \n",
       "177      LL23  LL23_4SWBT-LBHD- CR-451  500x10.5 + 150x23 L2  4.49  AH36  Sec   \n",
       "178      LL23  LL23_4SWBT-LBHD- CR-452  500x10.5 + 150x23 L2  4.49  AH36  Sec   \n",
       "179      LL23  LL23_4SWBT-LBHD- CR-453  500x10.5 + 150x23 L2  4.49  AH36  Sec   \n",
       "220      LL27  LL27_4SWBT-LBHD- CR-538    350x10 + 100x14 L2  1.00  AH36  Sec   \n",
       "\n",
       "       Avg_utm         tp  tw  tf nearest_transverse distance_to_transverse  \\\n",
       "0    14.400000   9.850000 NaN NaN                 TB                      0   \n",
       "176  11.566667   9.520000 NaN NaN                 TB                    100   \n",
       "177  12.400000  10.600000 NaN NaN                 TB                    530   \n",
       "178   0.000000   9.166667 NaN NaN                 TB                    210   \n",
       "179  11.400000  10.500000 NaN NaN                 TB                      0   \n",
       "220   6.500000  11.433333 NaN NaN                 TB                    530   \n",
       "\n",
       "     frame primary_structure           anomaly_type               location  \\\n",
       "0    FR-47        Long'l bhd  Generalised corrosion  Tank boundary plating   \n",
       "176  FR-47        Long'l bhd  Generalised corrosion  Tank boundary plating   \n",
       "177  FR-47        Long'l bhd  Generalised corrosion  Tank boundary plating   \n",
       "178  FR-47        Long'l bhd  Generalised corrosion  Tank boundary plating   \n",
       "179  FR-47        Long'l bhd  Generalised corrosion  Tank boundary plating   \n",
       "220  FR-47        Long'l bhd  Generalised corrosion          Stiffener web   \n",
       "\n",
       "                         detail  \n",
       "0    Greater than 6mm remaining  \n",
       "176  Greater than 6mm remaining  \n",
       "177  Greater than 6mm remaining  \n",
       "178     Less than 6mm remaining  \n",
       "179  Greater than 6mm remaining  \n",
       "220  Greater than 6mm remaining  "
      ]
     },
     "execution_count": 187,
     "metadata": {},
     "output_type": "execute_result"
    }
   ],
   "source": [
    "df[df[\"nearest_transverse\"]=='TB']"
   ]
  },
  {
   "attachments": {},
   "cell_type": "markdown",
   "metadata": {},
   "source": [
    "#### Changing frames to the nearest defined frame in global loads calculation\n",
    "\n",
    "Not all the frames are defined in the global loads calculation.<br>\n",
    "Therefore, the rule that is being followed on this project is to change the frame to the nearest defined frame such that the bending moment of the frame can be applied in the calculations.\n",
    "In the below script a problem specific solution has been implemented. A more general code can be written to replace it with the nearest defined Frame name."
   ]
  },
  {
   "cell_type": "code",
   "execution_count": 188,
   "metadata": {},
   "outputs": [],
   "source": [
    "# -- Existing cleaned frame names\n",
    "a = ['FR-47', 'FR-46', 'FR-49', 'FR-48', 'FR-48', 'FR-55',\n",
    "       'FR-49', 'FR-51', 'FR-54', 'FR-47', 'FR-50', 'FR-53'] \n",
    "\n",
    "# -- Nearest defined frames\n",
    "b = ['46', '46', '51', '46', '46', '56',\n",
    "       '51', '51', '56', '46', '51', '51']\n",
    "\n",
    "map_nearest_frame = dict(zip(a,b))"
   ]
  },
  {
   "cell_type": "code",
   "execution_count": 189,
   "metadata": {},
   "outputs": [],
   "source": [
    "df['frame_number'] = df['frame'].map(map_nearest_frame)"
   ]
  },
  {
   "attachments": {},
   "cell_type": "markdown",
   "metadata": {},
   "source": [
    "#### Horizontal location of the anomaly\n",
    "\n",
    "In reference to the nearest anomlay.\n",
    "The nearest anomaly column has inconsistencies.\n",
    "The names in this column will be replaced with proper names."
   ]
  },
  {
   "cell_type": "code",
   "execution_count": 190,
   "metadata": {},
   "outputs": [
    {
     "data": {
      "text/plain": [
       "array(['TB', 'FR-47', 'FR-46', 'TBHD 46', 'FR-48', 'FR-49', 'TWF47',\n",
       "       'TWF54', 'TWF48', 'TWF49', 'TWF51', 'Vert Stiffener', 'TWF46',\n",
       "       'FR.49', 'FR.53', 'Vertical Stiffener', 'LBHD'], dtype=object)"
      ]
     },
     "execution_count": 190,
     "metadata": {},
     "output_type": "execute_result"
    }
   ],
   "source": [
    "df['nearest_transverse'].unique()"
   ]
  },
  {
   "cell_type": "code",
   "execution_count": 191,
   "metadata": {},
   "outputs": [],
   "source": [
    "old_trns = ['TB', 'FR-47', 'FR-46', 'TBHD 46', 'FR-48', 'FR-49', 'TWF47',\n",
    "       'TWF54', 'TWF48', 'TWF49', 'TWF51', 'Vert Stiffener', 'TWF46',\n",
    "       'FR.49', 'FR.53', 'Vertical Stiffener', 'LBHD']\n",
    "new_trns = ['TB', 'FR-47', 'FR-46', 'FR-46', 'FR-48', 'FR-49', 'FR-47',\n",
    "       'FR-54', 'FR-48', 'FR-49', 'FR-51', 'Vertical Stiffener', 'FR-46',\n",
    "       'FR-49', 'FR-53', 'Vertical Stiffener', 'LBHD']\n",
    "\n",
    "map_nearest_trns = dict(zip(old_trns,new_trns))"
   ]
  },
  {
   "cell_type": "code",
   "execution_count": 192,
   "metadata": {},
   "outputs": [],
   "source": [
    "df['nearest_transverse'] = df['nearest_transverse'].map(map_nearest_trns)"
   ]
  },
  {
   "attachments": {},
   "cell_type": "markdown",
   "metadata": {},
   "source": [
    "### Data Munging"
   ]
  },
  {
   "attachments": {},
   "cell_type": "markdown",
   "metadata": {},
   "source": [
    "#### New column for span"
   ]
  },
  {
   "cell_type": "code",
   "execution_count": 193,
   "metadata": {},
   "outputs": [],
   "source": [
    "def span(row,span1,span2):\n",
    "    stiffener = row['stiffener']\n",
    "    if stiffener == \"LL26\" or stiffener == \"LL27\" or stiffener == 'BP' or stiffener == \"UD\":\n",
    "        return span2\n",
    "    else:\n",
    "        return span1\n",
    "\n"
   ]
  },
  {
   "cell_type": "code",
   "execution_count": 194,
   "metadata": {},
   "outputs": [],
   "source": [
    "df['span'] = df.apply(span, args=(5095,2547.5),axis=1)"
   ]
  },
  {
   "cell_type": "code",
   "execution_count": 195,
   "metadata": {},
   "outputs": [
    {
     "data": {
      "text/html": [
       "<div>\n",
       "<style scoped>\n",
       "    .dataframe tbody tr th:only-of-type {\n",
       "        vertical-align: middle;\n",
       "    }\n",
       "\n",
       "    .dataframe tbody tr th {\n",
       "        vertical-align: top;\n",
       "    }\n",
       "\n",
       "    .dataframe thead th {\n",
       "        text-align: right;\n",
       "    }\n",
       "</style>\n",
       "<table border=\"1\" class=\"dataframe\">\n",
       "  <thead>\n",
       "    <tr style=\"text-align: right;\">\n",
       "      <th></th>\n",
       "      <th>stiffener</th>\n",
       "      <th>stiff_anom_combo</th>\n",
       "      <th>stiffener_dim</th>\n",
       "      <th>h</th>\n",
       "      <th>grade</th>\n",
       "      <th>ps</th>\n",
       "      <th>Avg_utm</th>\n",
       "      <th>tp</th>\n",
       "      <th>tw</th>\n",
       "      <th>tf</th>\n",
       "      <th>nearest_transverse</th>\n",
       "      <th>distance_to_transverse</th>\n",
       "      <th>frame</th>\n",
       "      <th>primary_structure</th>\n",
       "      <th>anomaly_type</th>\n",
       "      <th>location</th>\n",
       "      <th>detail</th>\n",
       "      <th>frame_number</th>\n",
       "      <th>span</th>\n",
       "    </tr>\n",
       "  </thead>\n",
       "  <tbody>\n",
       "    <tr>\n",
       "      <th>0</th>\n",
       "      <td>BP</td>\n",
       "      <td>BP_4SWBT-LBHD- CR-545</td>\n",
       "      <td>350x19.5 + 0x0 L2</td>\n",
       "      <td>0.000</td>\n",
       "      <td>AH36</td>\n",
       "      <td>Sec</td>\n",
       "      <td>14.40</td>\n",
       "      <td>9.85</td>\n",
       "      <td>NaN</td>\n",
       "      <td>NaN</td>\n",
       "      <td>TB</td>\n",
       "      <td>0</td>\n",
       "      <td>FR-47</td>\n",
       "      <td>Long'l bhd</td>\n",
       "      <td>Generalised corrosion</td>\n",
       "      <td>Tank boundary plating</td>\n",
       "      <td>Greater than 6mm remaining</td>\n",
       "      <td>46</td>\n",
       "      <td>2547.5</td>\n",
       "    </tr>\n",
       "    <tr>\n",
       "      <th>1</th>\n",
       "      <td>LL00</td>\n",
       "      <td>LL00_4SWBT-LBHD- CR-219</td>\n",
       "      <td>350x10 + 150x15.5 L2</td>\n",
       "      <td>23.497</td>\n",
       "      <td>AH36</td>\n",
       "      <td>Sec</td>\n",
       "      <td>6.99</td>\n",
       "      <td>6.50</td>\n",
       "      <td>NaN</td>\n",
       "      <td>NaN</td>\n",
       "      <td>FR-47</td>\n",
       "      <td>0</td>\n",
       "      <td>FR-46</td>\n",
       "      <td>Long'l bhd</td>\n",
       "      <td>Generalised corrosion</td>\n",
       "      <td>Stiffener web</td>\n",
       "      <td>Greater than 6mm remaining</td>\n",
       "      <td>46</td>\n",
       "      <td>5095.0</td>\n",
       "    </tr>\n",
       "    <tr>\n",
       "      <th>2</th>\n",
       "      <td>LL00</td>\n",
       "      <td>LL00_4SWBT-LBHD- CR-220</td>\n",
       "      <td>350x10 + 150x15.5 L2</td>\n",
       "      <td>23.497</td>\n",
       "      <td>AH36</td>\n",
       "      <td>Sec</td>\n",
       "      <td>6.60</td>\n",
       "      <td>7.60</td>\n",
       "      <td>NaN</td>\n",
       "      <td>NaN</td>\n",
       "      <td>FR-47</td>\n",
       "      <td>650</td>\n",
       "      <td>FR-46</td>\n",
       "      <td>Long'l bhd</td>\n",
       "      <td>Generalised corrosion</td>\n",
       "      <td>Stiffener web</td>\n",
       "      <td>Greater than 6mm remaining</td>\n",
       "      <td>46</td>\n",
       "      <td>5095.0</td>\n",
       "    </tr>\n",
       "  </tbody>\n",
       "</table>\n",
       "</div>"
      ],
      "text/plain": [
       "  stiffener         stiff_anom_combo         stiffener_dim       h grade   ps  \\\n",
       "0        BP    BP_4SWBT-LBHD- CR-545     350x19.5 + 0x0 L2   0.000  AH36  Sec   \n",
       "1      LL00  LL00_4SWBT-LBHD- CR-219  350x10 + 150x15.5 L2  23.497  AH36  Sec   \n",
       "2      LL00  LL00_4SWBT-LBHD- CR-220  350x10 + 150x15.5 L2  23.497  AH36  Sec   \n",
       "\n",
       "   Avg_utm    tp  tw  tf nearest_transverse distance_to_transverse  frame  \\\n",
       "0    14.40  9.85 NaN NaN                 TB                      0  FR-47   \n",
       "1     6.99  6.50 NaN NaN              FR-47                      0  FR-46   \n",
       "2     6.60  7.60 NaN NaN              FR-47                    650  FR-46   \n",
       "\n",
       "  primary_structure           anomaly_type               location  \\\n",
       "0        Long'l bhd  Generalised corrosion  Tank boundary plating   \n",
       "1        Long'l bhd  Generalised corrosion          Stiffener web   \n",
       "2        Long'l bhd  Generalised corrosion          Stiffener web   \n",
       "\n",
       "                       detail frame_number    span  \n",
       "0  Greater than 6mm remaining           46  2547.5  \n",
       "1  Greater than 6mm remaining           46  5095.0  \n",
       "2  Greater than 6mm remaining           46  5095.0  "
      ]
     },
     "execution_count": 195,
     "metadata": {},
     "output_type": "execute_result"
    }
   ],
   "source": [
    "df.head(3)"
   ]
  },
  {
   "attachments": {},
   "cell_type": "markdown",
   "metadata": {},
   "source": [
    "#### Anomaly position ratio"
   ]
  },
  {
   "cell_type": "code",
   "execution_count": 196,
   "metadata": {},
   "outputs": [],
   "source": [
    "def positionRatio(row):\n",
    "    position = row['distance_to_transverse']\n",
    "    span = row['span']\n",
    "    try:\n",
    "        return np.round(position/span,2)\n",
    "    except:\n",
    "        return 'error'"
   ]
  },
  {
   "cell_type": "code",
   "execution_count": 197,
   "metadata": {},
   "outputs": [],
   "source": [
    "df['anom_position_ratio'] = df.apply(positionRatio, axis=1)"
   ]
  },
  {
   "cell_type": "code",
   "execution_count": 198,
   "metadata": {},
   "outputs": [
    {
     "data": {
      "text/plain": [
       "array([0.0, 0.13, 0.4, 0.23, 0.27, 0.28, 0.39, 0.16, 0.04, 0.35, 0.47,\n",
       "       0.25, 0.36, 0.03, 0.54, 0.41, 0.26, 0.37, 0.52, 0.18, 0.3, 0.07,\n",
       "       0.1, 0.5, 0.14, 0.21, 0.22, 0.2, 0.19, 0.48, 0.11, 0.08, 0.43,\n",
       "       0.02, 0.38, 0.06, 0.09, 0.6, 0.76, 0.7, 0.12, 0.44, 0.33, 0.34,\n",
       "       3.21, 0.05, 0.17, 0.45, 'error', nan, 0.32, 0.29, 0.24, 0.01, 0.49,\n",
       "       nan, 0.51, 0.58, 0.15, 0.61, 0.31], dtype=object)"
      ]
     },
     "execution_count": 198,
     "metadata": {},
     "output_type": "execute_result"
    }
   ],
   "source": [
    "df['anom_position_ratio'].unique()"
   ]
  },
  {
   "attachments": {},
   "cell_type": "markdown",
   "metadata": {},
   "source": [
    "#### Bending moment ratio calculation"
   ]
  },
  {
   "cell_type": "code",
   "execution_count": 205,
   "metadata": {},
   "outputs": [],
   "source": [
    "def bmRatioFixedBeam(row):\n",
    "    '''Bending moment ratio for a given x location along the stiffener\n",
    "       Applicable only if the arrangement is Fixed end beam\n",
    "       '''\n",
    "    try:\n",
    "        x = float(row['distance_to_transverse'])\n",
    "        l = float(row['span'])\n",
    "        if x != 0:\n",
    "            try:\n",
    "                x = float(row['distance_to_transverse'])\n",
    "                l = float(row['span'])\n",
    "                bmPerc = np.round(np.abs(((6*l*x)-(l**2)-(6*x**2))/(l**2)),2)\n",
    "            except:\n",
    "                bmPerc = 'error'\n",
    "        else:\n",
    "            bmPerc = 'anom located at the end'\n",
    "    except:\n",
    "        bmPerc = 'error'\n",
    "    return bmPerc"
   ]
  },
  {
   "cell_type": "code",
   "execution_count": 206,
   "metadata": {},
   "outputs": [],
   "source": [
    "def sfRatioFixedBeam(row):\n",
    "    '''Shear force ratio for a given x location along the stiffener\n",
    "       Applicable only if the arrangement is Fixed end beam\n",
    "       '''\n",
    "    try:\n",
    "        x = float(row['distance_to_transverse'])\n",
    "        l = float(row['span'])\n",
    "        if x != 0:\n",
    "            try:\n",
    "                x = float(row['distance_to_transverse'])\n",
    "                l = float(row['span'])\n",
    "                sfPerc = np.round(np.abs(((l/2)-x)/(l/2)),2)\n",
    "            except:\n",
    "                sfPerc = 'error'\n",
    "        else:\n",
    "            sfPerc = 'anom located at the end'\n",
    "    except:\n",
    "        sfPerc = 'error'\n",
    "    return sfPerc"
   ]
  },
  {
   "cell_type": "code",
   "execution_count": 207,
   "metadata": {},
   "outputs": [],
   "source": [
    "df['bm%'] = df.apply(bmRatioFixedBeam,axis=1)"
   ]
  },
  {
   "cell_type": "code",
   "execution_count": 208,
   "metadata": {},
   "outputs": [],
   "source": [
    "df['sf%'] = df.apply(sfRatioFixedBeam,axis=1)"
   ]
  },
  {
   "cell_type": "code",
   "execution_count": 209,
   "metadata": {},
   "outputs": [
    {
     "data": {
      "text/html": [
       "<div>\n",
       "<style scoped>\n",
       "    .dataframe tbody tr th:only-of-type {\n",
       "        vertical-align: middle;\n",
       "    }\n",
       "\n",
       "    .dataframe tbody tr th {\n",
       "        vertical-align: top;\n",
       "    }\n",
       "\n",
       "    .dataframe thead th {\n",
       "        text-align: right;\n",
       "    }\n",
       "</style>\n",
       "<table border=\"1\" class=\"dataframe\">\n",
       "  <thead>\n",
       "    <tr style=\"text-align: right;\">\n",
       "      <th></th>\n",
       "      <th>stiffener</th>\n",
       "      <th>stiff_anom_combo</th>\n",
       "      <th>stiffener_dim</th>\n",
       "      <th>h</th>\n",
       "      <th>grade</th>\n",
       "      <th>ps</th>\n",
       "      <th>Avg_utm</th>\n",
       "      <th>tp</th>\n",
       "      <th>tw</th>\n",
       "      <th>tf</th>\n",
       "      <th>nearest_transverse</th>\n",
       "      <th>distance_to_transverse</th>\n",
       "      <th>frame</th>\n",
       "      <th>primary_structure</th>\n",
       "      <th>anomaly_type</th>\n",
       "      <th>location</th>\n",
       "      <th>detail</th>\n",
       "      <th>frame_number</th>\n",
       "      <th>span</th>\n",
       "      <th>anom_position_ratio</th>\n",
       "      <th>bm%</th>\n",
       "      <th>sf%</th>\n",
       "    </tr>\n",
       "  </thead>\n",
       "  <tbody>\n",
       "    <tr>\n",
       "      <th>0</th>\n",
       "      <td>BP</td>\n",
       "      <td>BP_4SWBT-LBHD- CR-545</td>\n",
       "      <td>350x19.5 + 0x0 L2</td>\n",
       "      <td>0.000</td>\n",
       "      <td>AH36</td>\n",
       "      <td>Sec</td>\n",
       "      <td>14.40</td>\n",
       "      <td>9.85</td>\n",
       "      <td>NaN</td>\n",
       "      <td>NaN</td>\n",
       "      <td>TB</td>\n",
       "      <td>0</td>\n",
       "      <td>FR-47</td>\n",
       "      <td>Long'l bhd</td>\n",
       "      <td>Generalised corrosion</td>\n",
       "      <td>Tank boundary plating</td>\n",
       "      <td>Greater than 6mm remaining</td>\n",
       "      <td>46</td>\n",
       "      <td>2547.5</td>\n",
       "      <td>0.0</td>\n",
       "      <td>anom located at the end</td>\n",
       "      <td>anom located at the end</td>\n",
       "    </tr>\n",
       "    <tr>\n",
       "      <th>1</th>\n",
       "      <td>LL00</td>\n",
       "      <td>LL00_4SWBT-LBHD- CR-219</td>\n",
       "      <td>350x10 + 150x15.5 L2</td>\n",
       "      <td>23.497</td>\n",
       "      <td>AH36</td>\n",
       "      <td>Sec</td>\n",
       "      <td>6.99</td>\n",
       "      <td>6.50</td>\n",
       "      <td>NaN</td>\n",
       "      <td>NaN</td>\n",
       "      <td>FR-47</td>\n",
       "      <td>0</td>\n",
       "      <td>FR-46</td>\n",
       "      <td>Long'l bhd</td>\n",
       "      <td>Generalised corrosion</td>\n",
       "      <td>Stiffener web</td>\n",
       "      <td>Greater than 6mm remaining</td>\n",
       "      <td>46</td>\n",
       "      <td>5095.0</td>\n",
       "      <td>0.0</td>\n",
       "      <td>anom located at the end</td>\n",
       "      <td>anom located at the end</td>\n",
       "    </tr>\n",
       "    <tr>\n",
       "      <th>2</th>\n",
       "      <td>LL00</td>\n",
       "      <td>LL00_4SWBT-LBHD- CR-220</td>\n",
       "      <td>350x10 + 150x15.5 L2</td>\n",
       "      <td>23.497</td>\n",
       "      <td>AH36</td>\n",
       "      <td>Sec</td>\n",
       "      <td>6.60</td>\n",
       "      <td>7.60</td>\n",
       "      <td>NaN</td>\n",
       "      <td>NaN</td>\n",
       "      <td>FR-47</td>\n",
       "      <td>650</td>\n",
       "      <td>FR-46</td>\n",
       "      <td>Long'l bhd</td>\n",
       "      <td>Generalised corrosion</td>\n",
       "      <td>Stiffener web</td>\n",
       "      <td>Greater than 6mm remaining</td>\n",
       "      <td>46</td>\n",
       "      <td>5095.0</td>\n",
       "      <td>0.13</td>\n",
       "      <td>0.33</td>\n",
       "      <td>0.74</td>\n",
       "    </tr>\n",
       "    <tr>\n",
       "      <th>3</th>\n",
       "      <td>LL00</td>\n",
       "      <td>LL00_4SWBT-LBHD- CR-221</td>\n",
       "      <td>350x10 + 150x15.5 L2</td>\n",
       "      <td>23.497</td>\n",
       "      <td>AH36</td>\n",
       "      <td>Sec</td>\n",
       "      <td>6.30</td>\n",
       "      <td>6.40</td>\n",
       "      <td>NaN</td>\n",
       "      <td>NaN</td>\n",
       "      <td>FR-47</td>\n",
       "      <td>650</td>\n",
       "      <td>FR-46</td>\n",
       "      <td>Long'l bhd</td>\n",
       "      <td>Pit within generalised corrosion</td>\n",
       "      <td>Stiffener web</td>\n",
       "      <td>Greater than 6mm remaining</td>\n",
       "      <td>46</td>\n",
       "      <td>5095.0</td>\n",
       "      <td>0.13</td>\n",
       "      <td>0.33</td>\n",
       "      <td>0.74</td>\n",
       "    </tr>\n",
       "  </tbody>\n",
       "</table>\n",
       "</div>"
      ],
      "text/plain": [
       "  stiffener         stiff_anom_combo         stiffener_dim       h grade   ps  \\\n",
       "0        BP    BP_4SWBT-LBHD- CR-545     350x19.5 + 0x0 L2   0.000  AH36  Sec   \n",
       "1      LL00  LL00_4SWBT-LBHD- CR-219  350x10 + 150x15.5 L2  23.497  AH36  Sec   \n",
       "2      LL00  LL00_4SWBT-LBHD- CR-220  350x10 + 150x15.5 L2  23.497  AH36  Sec   \n",
       "3      LL00  LL00_4SWBT-LBHD- CR-221  350x10 + 150x15.5 L2  23.497  AH36  Sec   \n",
       "\n",
       "   Avg_utm    tp  tw  tf nearest_transverse distance_to_transverse  frame  \\\n",
       "0    14.40  9.85 NaN NaN                 TB                      0  FR-47   \n",
       "1     6.99  6.50 NaN NaN              FR-47                      0  FR-46   \n",
       "2     6.60  7.60 NaN NaN              FR-47                    650  FR-46   \n",
       "3     6.30  6.40 NaN NaN              FR-47                    650  FR-46   \n",
       "\n",
       "  primary_structure                      anomaly_type               location  \\\n",
       "0        Long'l bhd             Generalised corrosion  Tank boundary plating   \n",
       "1        Long'l bhd             Generalised corrosion          Stiffener web   \n",
       "2        Long'l bhd             Generalised corrosion          Stiffener web   \n",
       "3        Long'l bhd  Pit within generalised corrosion          Stiffener web   \n",
       "\n",
       "                       detail frame_number    span anom_position_ratio  \\\n",
       "0  Greater than 6mm remaining           46  2547.5                 0.0   \n",
       "1  Greater than 6mm remaining           46  5095.0                 0.0   \n",
       "2  Greater than 6mm remaining           46  5095.0                0.13   \n",
       "3  Greater than 6mm remaining           46  5095.0                0.13   \n",
       "\n",
       "                       bm%                      sf%  \n",
       "0  anom located at the end  anom located at the end  \n",
       "1  anom located at the end  anom located at the end  \n",
       "2                     0.33                     0.74  \n",
       "3                     0.33                     0.74  "
      ]
     },
     "execution_count": 209,
     "metadata": {},
     "output_type": "execute_result"
    }
   ],
   "source": [
    "df.head(4)"
   ]
  },
  {
   "cell_type": "code",
   "execution_count": 167,
   "metadata": {},
   "outputs": [],
   "source": [
    "xw.view(df)"
   ]
  },
  {
   "cell_type": "code",
   "execution_count": null,
   "metadata": {},
   "outputs": [],
   "source": []
  }
 ],
 "metadata": {
  "kernelspec": {
   "display_name": "base",
   "language": "python",
   "name": "python3"
  },
  "language_info": {
   "codemirror_mode": {
    "name": "ipython",
    "version": 3
   },
   "file_extension": ".py",
   "mimetype": "text/x-python",
   "name": "python",
   "nbconvert_exporter": "python",
   "pygments_lexer": "ipython3",
   "version": "3.9.13"
  },
  "orig_nbformat": 4,
  "vscode": {
   "interpreter": {
    "hash": "23558032b00ee6b68473e6823c75ce9d636029f112ff94112151df65d8686c23"
   }
  }
 },
 "nbformat": 4,
 "nbformat_minor": 2
}
